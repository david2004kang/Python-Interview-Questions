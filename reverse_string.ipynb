{
  "nbformat": 4,
  "nbformat_minor": 0,
  "metadata": {
    "colab": {
      "name": "reverse_string.ipynb",
      "version": "0.3.2",
      "provenance": [],
      "include_colab_link": true
    },
    "kernelspec": {
      "name": "python3",
      "display_name": "Python 3"
    }
  },
  "cells": [
    {
      "cell_type": "markdown",
      "metadata": {
        "id": "view-in-github",
        "colab_type": "text"
      },
      "source": [
        "<a href=\"https://colab.research.google.com/github/mikazz/Python-Interview-Questions/blob/master/reverse_string.ipynb\" target=\"_parent\"><img src=\"https://colab.research.google.com/assets/colab-badge.svg\" alt=\"Open In Colab\"/></a>"
      ]
    },
    {
      "cell_type": "code",
      "metadata": {
        "id": "WWgYPt-dr-sW",
        "colab_type": "code",
        "colab": {
          "base_uri": "https://localhost:8080/",
          "height": 90
        },
        "outputId": "566e4c51-e1b2-488a-e288-761f5f37fc97"
      },
      "source": [
        "def reverse(string, parameter):\n",
        "    generator = (t for t in reversed(string) if t not in parameter)\n",
        "    return ''.join(t if t in parameter else next(generator) for t in string)\n",
        "\n",
        "if __name__ == \"__main__\":\n",
        "    print(reverse(string=\"123456\", parameter=[\"1\"]) == \"165432\")\n",
        "    print(reverse(string=\"123456\", parameter=[\"1\",\"3\"]) == \"163542\")\n",
        "    print(reverse(string=\"123456\", parameter=[\"2\",\"4\"]) == \"625431\")\n",
        "    print(reverse(string=\"12,34.56\", parameter=[\",\", \".\"]) ==\"65,43.21\")\n"
      ],
      "execution_count": 1,
      "outputs": [
        {
          "output_type": "stream",
          "text": [
            "True\n",
            "True\n",
            "True\n",
            "True\n"
          ],
          "name": "stdout"
        }
      ]
    }
  ]
}