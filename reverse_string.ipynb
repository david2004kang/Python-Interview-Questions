{
  "nbformat": 4,
  "nbformat_minor": 0,
  "metadata": {
    "colab": {
      "name": "reverse_string",
      "version": "0.3.2",
      "provenance": [],
      "collapsed_sections": [],
      "include_colab_link": true
    },
    "kernelspec": {
      "name": "python3",
      "display_name": "Python 3"
    }
  },
  "cells": [
    {
      "cell_type": "markdown",
      "metadata": {
        "id": "view-in-github",
        "colab_type": "text"
      },
      "source": [
        "<a href=\"https://colab.research.google.com/github/mikazz/Python-Interview-Questions/blob/master/reverse_string.ipynb\" target=\"_parent\"><img src=\"https://colab.research.google.com/assets/colab-badge.svg\" alt=\"Open In Colab\"/></a>"
      ]
    },
    {
      "cell_type": "code",
      "metadata": {
        "id": "WWgYPt-dr-sW",
        "colab_type": "code",
        "outputId": "566e4c51-e1b2-488a-e288-761f5f37fc97",
        "colab": {
          "base_uri": "https://localhost:8080/",
          "height": 90
        }
      },
      "source": [
        "def reverse(string, parameter):\n",
        "    generator = (t for t in reversed(string) if t not in parameter)\n",
        "    return ''.join(t if t in parameter else next(generator) for t in string)\n",
        "\n",
        "if __name__ == \"__main__\":\n",
        "    print(reverse(string=\"123456\", parameter=[\"1\"]) == \"165432\")\n",
        "    print(reverse(string=\"123456\", parameter=[\"1\",\"3\"]) == \"163542\")\n",
        "    print(reverse(string=\"123456\", parameter=[\"2\",\"4\"]) == \"625431\")\n",
        "    print(reverse(string=\"12,34.56\", parameter=[\",\", \".\"]) ==\"65,43.21\")\n"
      ],
      "execution_count": 0,
      "outputs": [
        {
          "output_type": "stream",
          "text": [
            "True\n",
            "True\n",
            "True\n",
            "True\n"
          ],
          "name": "stdout"
        }
      ]
    },
    {
      "cell_type": "code",
      "metadata": {
        "id": "RMNIo3xQuYz0",
        "colab_type": "code",
        "outputId": "f310188f-0352-4763-ea14-2d7cdaab787b",
        "colab": {
          "base_uri": "https://localhost:8080/",
          "height": 308
        }
      },
      "source": [
        "def reverse(string, parameter):\n",
        "    num_to_reverse = [i for i in string if i not in parameter][::-1]\n",
        "\n",
        "    print(string[::-1])\n",
        "    print(num_to_reverse)\n",
        "\n",
        "    # constants = [(char, index), (char, index)]\n",
        "    constants = [(i, int(string.index(i))) for i in string if i in parameter]\n",
        "\n",
        "    print(constants)\n",
        "\n",
        "    \n",
        "    for j in range(len(constants)):\n",
        "        num_to_reverse.insert(constants[j][1], constants[j][0])\n",
        "    return \"\".join(num_to_reverse)\n",
        "\n",
        "if __name__ == \"__main__\":\n",
        "    print(reverse(string=\"123456\", parameter=[\"1\"]) == \"165432\") # 165432\n",
        "    print(reverse(string=\"123456\", parameter=[\"1\",\"3\"]) == \"163542\") # 163542\n",
        "    print(reverse(string=\"123456\", parameter=[\"2\",\"4\"]) == \"625431\") # 625431  \n",
        "    print(reverse(string=\"12,34.56\", parameter=[\",\", \".\"]) ==\"65,43.21\") # 65,43.21\n",
        "\n",
        "\n",
        "\n"
      ],
      "execution_count": 0,
      "outputs": [
        {
          "output_type": "stream",
          "text": [
            "654321\n",
            "['6', '5', '4', '3', '2']\n",
            "[('1', 0)]\n",
            "True\n",
            "654321\n",
            "['6', '5', '4', '2']\n",
            "[('1', 0), ('3', 2)]\n",
            "True\n",
            "654321\n",
            "['6', '5', '3', '1']\n",
            "[('2', 1), ('4', 3)]\n",
            "True\n",
            "65.43,21\n",
            "['6', '5', '4', '3', '2', '1']\n",
            "[(',', 2), ('.', 5)]\n",
            "True\n"
          ],
          "name": "stdout"
        }
      ]
    }
  ]
}