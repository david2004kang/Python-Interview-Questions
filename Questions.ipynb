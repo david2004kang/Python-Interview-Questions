{
  "nbformat": 4,
  "nbformat_minor": 0,
  "metadata": {
    "colab": {
      "name": "Untitled0.ipynb",
      "version": "0.3.2",
      "provenance": [],
      "include_colab_link": true
    },
    "kernelspec": {
      "name": "python3",
      "display_name": "Python 3"
    }
  },
  "cells": [
    {
      "cell_type": "markdown",
      "metadata": {
        "id": "view-in-github",
        "colab_type": "text"
      },
      "source": [
        "<a href=\"https://colab.research.google.com/github/mikazz/Python-Interview-Questions/blob/master/Questions.ipynb\" target=\"_parent\"><img src=\"https://colab.research.google.com/assets/colab-badge.svg\" alt=\"Open In Colab\"/></a>"
      ]
    },
    {
      "cell_type": "markdown",
      "metadata": {
        "id": "YVbRoA1dw1sP",
        "colab_type": "text"
      },
      "source": [
        "# What will be the output of the code below? Explain your answer. How would you modify the definition of extendList to produce the presumably desired behavior?"
      ]
    },
    {
      "cell_type": "code",
      "metadata": {
        "id": "UBCcR5ZCwzUt",
        "colab_type": "code",
        "colab": {}
      },
      "source": [
        ""
      ],
      "execution_count": 0,
      "outputs": []
    },
    {
      "cell_type": "markdown",
      "metadata": {
        "id": "0b80VQmOxWKX",
        "colab_type": "text"
      },
      "source": [
        ""
      ]
    },
    {
      "cell_type": "markdown",
      "metadata": {
        "id": "pLl0RifVxb6g",
        "colab_type": "text"
      },
      "source": [
        "A shallow copy creates a new object which stores the reference of the original elements.\n",
        "\n"
      ]
    },
    {
      "cell_type": "code",
      "metadata": {
        "id": "XILKoI-5xW6D",
        "colab_type": "code",
        "colab": {}
      },
      "source": [
        "import copy\n",
        "copy.copy(x)\n",
        "copy.deepcopy(x)"
      ],
      "execution_count": 0,
      "outputs": []
    },
    {
      "cell_type": "markdown",
      "metadata": {
        "id": "K-3AHrkS1dOd",
        "colab_type": "text"
      },
      "source": [
        "# Difference between Generator function and Normal function \n"
      ]
    },
    {
      "cell_type": "markdown",
      "metadata": {
        "id": "nF2wcYqc1hkN",
        "colab_type": "text"
      },
      "source": [
        "\n",
        "    Once the function yields, the function is paused and the control is transferred to the caller.\n",
        "    When the function terminates, StopIteration is raised automatically on further calls.\n",
        "    Local variables and their states are remembered between successive calls.\n",
        "    Generator function contains one or more yield statement instead of return statement.\n",
        "    As the methods like _next_() and _iter_() are implemented automatically, we can iterate through the items using next().\n"
      ]
    },
    {
      "cell_type": "code",
      "metadata": {
        "id": "MaBC1TQy9nz5",
        "colab_type": "code",
        "colab": {}
      },
      "source": [
        "\n",
        "# Python code to illustrate generator expression  \n",
        "generator = (num ** 2 for num in range(10))  \n",
        "for num in generator: \n",
        "    print(num) \n"
      ],
      "execution_count": 0,
      "outputs": []
    },
    {
      "cell_type": "code",
      "metadata": {
        "id": "akey0sRK964j",
        "colab_type": "code",
        "colab": {}
      },
      "source": [
        "# Python code to illustrate generator, yield() and next(). \n",
        "def generator(): \n",
        "    t = 1\n",
        "    print('First result is ', t)\n",
        "    yield t \n",
        "  \n",
        "    t += 1\n",
        "    print('Second result is ', t) \n",
        "    yield t \n",
        "  \n",
        "    t += 1\n",
        "    print('Third result is ', t)\n",
        "    yield t \n",
        "  \n",
        "call = generator() \n",
        "next(call) \n",
        "next(call)\n",
        "next(call)"
      ],
      "execution_count": 0,
      "outputs": []
    },
    {
      "cell_type": "code",
      "metadata": {
        "id": "4AHT38GaBySz",
        "colab_type": "code",
        "outputId": "63ef9630-0619-40e9-cfc0-ef246c78a713",
        "colab": {
          "base_uri": "https://localhost:8080/",
          "height": 72
        }
      },
      "source": [
        "\n",
        "# A Python program to demonstrate use of generator object with next()  \n",
        "  \n",
        "# A generator function \n",
        "def simpleGeneratorFun(): \n",
        "    yield 1\n",
        "    yield 2\n",
        "    yield 3\n",
        "   \n",
        "# x is a generator object \n",
        "x = simpleGeneratorFun() \n",
        "  \n",
        "# Iterating over the generator object using next \n",
        "print(x.__next__())\n",
        "print(x.__next__())\n",
        "print(x.__next__())\n"
      ],
      "execution_count": 0,
      "outputs": [
        {
          "output_type": "stream",
          "text": [
            "1\n",
            "2\n",
            "3\n"
          ],
          "name": "stdout"
        }
      ]
    },
    {
      "cell_type": "markdown",
      "metadata": {
        "id": "nakdNbwJ15d8",
        "colab_type": "text"
      },
      "source": [
        "# What is the output of the following Python code fragment? Justify your answer."
      ]
    },
    {
      "cell_type": "code",
      "metadata": {
        "id": "Sx-eHocZ1bEQ",
        "colab_type": "code",
        "colab": {}
      },
      "source": [
        "def extendList(val, list=[]):\n",
        "    list.append(val)\n",
        "    return list\n",
        "\n",
        "list1 = extendList(10)\n",
        "list2 = extendList(123, [])\n",
        "list3 = extendList('a')\n",
        "\n",
        "print(\"list1 = %s\" % list1)\n",
        "print(\"list2 = %s\" % list2)\n",
        "print(\"list3 = %s\" % list3)"
      ],
      "execution_count": 0,
      "outputs": []
    },
    {
      "cell_type": "markdown",
      "metadata": {
        "id": "Zev_56Do3-UX",
        "colab_type": "text"
      },
      "source": [
        "The list1 and list3 are operating on the same default list, whereas list2 is running on a separate object that it has created on its own (by passing an empty list as the value of the list paramet"
      ]
    },
    {
      "cell_type": "markdown",
      "metadata": {
        "id": "OPTdTVmz5eY3",
        "colab_type": "text"
      },
      "source": [
        "# Explain inheritance in Python\n"
      ]
    },
    {
      "cell_type": "markdown",
      "metadata": {
        "id": "2yK2fbeB5hiW",
        "colab_type": "text"
      },
      "source": [
        "\n",
        "Inheritance allows to define a class that inherits all the methods and properties from another class.\n",
        "\n",
        "Parent class is the class being inherited from, also called base class.\n",
        "\n",
        "Child class is the class that inherits from another class, also called derived class."
      ]
    },
    {
      "cell_type": "markdown",
      "metadata": {
        "id": "fnbDQm4NEve7",
        "colab_type": "text"
      },
      "source": [
        "# What is the statement that can be used in Python if the program requires no action but requires it syntactically?"
      ]
    },
    {
      "cell_type": "markdown",
      "metadata": {
        "id": "apT9zQskEy0r",
        "colab_type": "text"
      },
      "source": [
        "Python has the syntactical requirement that code blocks (after if, except, def, class etc.) cannot be empty. Empty code blocks are however useful in a variety of different contexts.\n",
        "\n",
        "pass is needed for such a block to not produce an IndentationError. Alternatively, any statement (including just a term to be evaluated, like the Ellipsis literal ... or a string, most often a docstring) can be used, but the pass makes clear that indeed nothing is supposed to happen, and does not need to be actually evaluated and (at least temporarily) stored in memory.\n"
      ]
    },
    {
      "cell_type": "markdown",
      "metadata": {
        "id": "--yiswZFHdLP",
        "colab_type": "text"
      },
      "source": [
        "# What’s the process to get the home directory using ‘~’ in Python?"
      ]
    },
    {
      "cell_type": "code",
      "metadata": {
        "id": "qdPPuG5sHllb",
        "colab_type": "code",
        "colab": {}
      },
      "source": [
        "import os\n",
        "print(os.path.expanduser('~'))"
      ],
      "execution_count": 0,
      "outputs": []
    },
    {
      "cell_type": "markdown",
      "metadata": {
        "id": "8oA4f8jgID_E",
        "colab_type": "text"
      },
      "source": [
        "# What are the built-in types available in Python?"
      ]
    },
    {
      "cell_type": "markdown",
      "metadata": {
        "id": "AdenHXI3IIVR",
        "colab_type": "text"
      },
      "source": [
        "    Immutable built-in datatypes of Python\n",
        "        Numbers\n",
        "        Strings\n",
        "        Tuples\n",
        "\n",
        "    Mutable built-in datatypes of Python\n",
        "        List\n",
        "        Dictionaries\n",
        "        Sets"
      ]
    },
    {
      "cell_type": "markdown",
      "metadata": {
        "id": "yoKGz4ccItaS",
        "colab_type": "text"
      },
      "source": [
        "# How can you randomize list items"
      ]
    },
    {
      "cell_type": "code",
      "metadata": {
        "id": "eYpJeRplIvB6",
        "colab_type": "code",
        "outputId": "aadf6873-9d35-41c7-8009-74689d4cd585",
        "colab": {
          "base_uri": "https://localhost:8080/",
          "height": 72
        }
      },
      "source": [
        "import random\n",
        "\n",
        "list = [2, 18, 8, 4]\n",
        "print(\"Prior Shuffling - 0\", list)\n",
        "random.shuffle(list)\n",
        "print(\"After Shuffling - 1\", list)\n",
        "random.shuffle(list)\n",
        "print(\"After Shuffling - 2\", list)"
      ],
      "execution_count": 0,
      "outputs": [
        {
          "output_type": "stream",
          "text": [
            "Prior Shuffling - 0 [2, 18, 8, 4]\n",
            "After Shuffling - 1 [8, 2, 18, 4]\n",
            "After Shuffling - 2 [2, 18, 4, 8]\n"
          ],
          "name": "stdout"
        }
      ]
    },
    {
      "cell_type": "markdown",
      "metadata": {
        "id": "M6eFx9CTJl1Z",
        "colab_type": "text"
      },
      "source": [
        "# What are the differences between the lambda and def?"
      ]
    },
    {
      "cell_type": "markdown",
      "metadata": {
        "id": "nZYqxg5oJqe9",
        "colab_type": "text"
      },
      "source": [
        "lambda functions can't be pickled because they have no (unique) name associated with them. (Therefore, they can't be used with multiprocessing)\n",
        "\n",
        "lambda is an expression whereas def is a statement. Since lambda is an expression, it can only contain other expressions (no statements are allowed) \n",
        "\n"
      ]
    },
    {
      "cell_type": "markdown",
      "metadata": {
        "id": "d-7kewRYf-0p",
        "colab_type": "text"
      },
      "source": [
        "# Pickle"
      ]
    },
    {
      "cell_type": "code",
      "metadata": {
        "id": "eg2Rd6tZf-WD",
        "colab_type": "code",
        "colab": {}
      },
      "source": [
        "import pickle\n",
        "\n",
        "# example dict\n",
        "grades = { 'Alice': 89, 'Bob': 72, 'Charles': 87 }\n",
        "\n",
        "# Use dumps to convert the object to a serialized string\n",
        "serial_grades = pickle.dumps( grades )\n",
        "print(serial_grades)\n",
        "\n",
        "# Use loads to de-serialize an object\n",
        "received_grades = pickle.loads( serial_grades )\n",
        "print(received_grades)"
      ],
      "execution_count": 0,
      "outputs": []
    },
    {
      "cell_type": "markdown",
      "metadata": {
        "id": "_MBNsJJckPMy",
        "colab_type": "text"
      },
      "source": [
        "# Copy an object in Python"
      ]
    },
    {
      "cell_type": "markdown",
      "metadata": {
        "id": "HFLesNVUlK_c",
        "colab_type": "text"
      },
      "source": [
        "https://www.programiz.com/python-programming/shallow-deep-copy"
      ]
    }
  ]
}