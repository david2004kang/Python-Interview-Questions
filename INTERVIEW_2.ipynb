{
  "nbformat": 4,
  "nbformat_minor": 0,
  "metadata": {
    "colab": {
      "name": "Untitled7.ipynb",
      "version": "0.3.2",
      "provenance": [],
      "include_colab_link": true
    },
    "kernelspec": {
      "name": "python3",
      "display_name": "Python 3"
    }
  },
  "cells": [
    {
      "cell_type": "markdown",
      "metadata": {
        "id": "view-in-github",
        "colab_type": "text"
      },
      "source": [
        "<a href=\"https://colab.research.google.com/github/mikazz/Python-Interview-Questions/blob/master/INTERVIEW_2.ipynb\" target=\"_parent\"><img src=\"https://colab.research.google.com/assets/colab-badge.svg\" alt=\"Open In Colab\"/></a>"
      ]
    },
    {
      "cell_type": "markdown",
      "metadata": {
        "id": "JcrtYdekqG1r",
        "colab_type": "text"
      },
      "source": [
        "# What happens when a function doesn’t have a return statement ? Is this valid?"
      ]
    },
    {
      "cell_type": "markdown",
      "metadata": {
        "id": "AFVXTWXLqLYJ",
        "colab_type": "text"
      },
      "source": [
        "There is no such thing as \"returning nothing\" in Python. Every function returns some value (unless it raises an exception). If no explicit return statement is used, Python treats it as returning None"
      ]
    },
    {
      "cell_type": "code",
      "metadata": {
        "id": "TWOp2RYpzkUw",
        "colab_type": "code",
        "colab": {}
      },
      "source": [
        "def f(x):\n",
        "    pass\n",
        "\n",
        "print(f(2))  # None"
      ],
      "execution_count": 0,
      "outputs": []
    },
    {
      "cell_type": "markdown",
      "metadata": {
        "id": "1zfMC4a4qrRV",
        "colab_type": "text"
      },
      "source": [
        "# What is the lambda operator?"
      ]
    },
    {
      "cell_type": "markdown",
      "metadata": {
        "id": "lcZRY11Jqoky",
        "colab_type": "text"
      },
      "source": [
        "The lambda operator is used to create anonymous functions. It is mostly used in cases where one wishes to pass functions as parameters. or assign them to variable names."
      ]
    },
    {
      "cell_type": "code",
      "metadata": {
        "id": "yVB5PDgiq3N3",
        "colab_type": "code",
        "colab": {}
      },
      "source": [
        "# A lambda function that adds 10 to the number\n",
        "# passed in as an argument, and print the result:\n",
        "x = lambda a : a + 10\n",
        "print(x(5)) "
      ],
      "execution_count": 0,
      "outputs": []
    },
    {
      "cell_type": "markdown",
      "metadata": {
        "id": "34wl0jc-rA3F",
        "colab_type": "text"
      },
      "source": [
        "# Explain the difference between local and global namespaces?"
      ]
    },
    {
      "cell_type": "markdown",
      "metadata": {
        "id": "e_BQC3bwrFEY",
        "colab_type": "text"
      },
      "source": [
        "*    Local namespaces are created within a function. when that function is called. \n",
        "*    Global name spaces are created when the program starts."
      ]
    },
    {
      "cell_type": "markdown",
      "metadata": {
        "id": "D89Saci0toiE",
        "colab_type": "text"
      },
      "source": [
        "# Differentiate between continue and break"
      ]
    },
    {
      "cell_type": "markdown",
      "metadata": {
        "id": "QOP0OflltuGy",
        "colab_type": "text"
      },
      "source": [
        "*    break leaves a loop\n",
        "*    continue jumps to the next iteration"
      ]
    },
    {
      "cell_type": "markdown",
      "metadata": {
        "id": "BRUxzv5n2C9C",
        "colab_type": "text"
      },
      "source": [
        "# Differentiate between deep and shallow copy."
      ]
    },
    {
      "cell_type": "markdown",
      "metadata": {
        "id": "P4-UsEIB3-VJ",
        "colab_type": "text"
      },
      "source": [
        "*    Shallow copy copies one object’s reference to another. So, if we make a change in the copy, it will affect the original object."
      ]
    },
    {
      "cell_type": "code",
      "metadata": {
        "id": "xVyDKPfW4EUO",
        "colab_type": "code",
        "colab": {}
      },
      "source": [
        "import copy\n",
        "\n",
        "xs = [[1, 2, 3], [4, 5, 6], [7, 8, 9]]\n",
        "ys = copy.copy(xs)  # Make a shallow copy\n",
        "\n",
        "print(xs)\n",
        "print(ys)\n",
        "\n",
        "# ys still contains references to the original child objects stored in xs\n",
        "# when you modify one of the child objects in xs, this modification will be \n",
        "# reflected in ys as well—that’s because both lists share the same child objects.\n",
        "\n",
        "xs[1][0] = 'X'\n",
        "\n",
        "print(xs)\n",
        "print(ys)\n"
      ],
      "execution_count": 0,
      "outputs": []
    },
    {
      "cell_type": "markdown",
      "metadata": {
        "id": "q64jmkYj2boM",
        "colab_type": "text"
      },
      "source": [
        "*    Deep copy copies an object into another. This means that if you make a change to a copy of an object, it won’t affect the original object."
      ]
    },
    {
      "cell_type": "code",
      "metadata": {
        "id": "mGpb9Ap83gSV",
        "colab_type": "code",
        "colab": {}
      },
      "source": [
        "import copy\n",
        "\n",
        "xs = [[1, 2, 3], [4, 5, 6], [7, 8, 9]]\n",
        "zs = copy.deepcopy(xs)  #Make a deep copy\n",
        "\n",
        "print(xs)\n",
        "print(zs)\n",
        "\n",
        "# Both objects, the original and the copy, are fully independent this time. \n",
        "# xs was cloned recursively, including all of its child objects\n",
        "\n",
        "xs[1][0] = 'X'\n",
        "\n",
        "print(xs)\n",
        "print(zs)\n",
        "\n"
      ],
      "execution_count": 0,
      "outputs": []
    },
    {
      "cell_type": "markdown",
      "metadata": {
        "id": "aixrCD3KAyPK",
        "colab_type": "text"
      },
      "source": [
        "# What is monkey patching?"
      ]
    },
    {
      "cell_type": "markdown",
      "metadata": {
        "id": "ov7LWoi5BkvQ",
        "colab_type": "text"
      },
      "source": [
        "Dynamically extending or modifying a class or module at run-time.\n"
      ]
    },
    {
      "cell_type": "code",
      "metadata": {
        "id": "Vtb5yisNA7vi",
        "colab_type": "code",
        "outputId": "b8a44aa7-0766-435f-f6a0-4018fcccb3f5",
        "colab": {
          "base_uri": "https://localhost:8080/",
          "height": 35
        }
      },
      "source": [
        "import math\n",
        "\n",
        "def sqrt(self):\n",
        "    return \"I cant do math\"\n",
        "\n",
        "math.sqrt = sqrt\n",
        "\n",
        "print(math.sqrt(4))"
      ],
      "execution_count": 0,
      "outputs": [
        {
          "output_type": "stream",
          "text": [
            "I cant do math\n"
          ],
          "name": "stdout"
        }
      ]
    },
    {
      "cell_type": "markdown",
      "metadata": {
        "id": "bPowTDQ-EiNo",
        "colab_type": "text"
      },
      "source": [
        "# What do you mean by \\*args and **kwargs?"
      ]
    },
    {
      "cell_type": "markdown",
      "metadata": {
        "id": "CJzOKy11Emzl",
        "colab_type": "text"
      },
      "source": [
        "*    *args \n",
        "\n",
        "*    **kwargs takes keyword arguments when we don’t know how many there will be."
      ]
    },
    {
      "cell_type": "code",
      "metadata": {
        "id": "FsqmUMAXErEL",
        "colab_type": "code",
        "colab": {}
      },
      "source": [
        "def func(*args):\n",
        "    # args is a tuple\n",
        "    for i in args:\n",
        "        print(i)\n",
        "\n",
        "func(3, 2, 1, 4, 7)  # Arguments"
      ],
      "execution_count": 0,
      "outputs": []
    },
    {
      "cell_type": "code",
      "metadata": {
        "id": "9VXOpBpYFkVc",
        "colab_type": "code",
        "colab": {}
      },
      "source": [
        "def func(**kwargs):\n",
        "    # kwargs is a dictionary\n",
        "    for i in kwargs:\n",
        "        print(i,kwargs[i])\n",
        "        \n",
        "func(a=1, b=2, c=7)  # Keyword Arguments"
      ],
      "execution_count": 0,
      "outputs": []
    },
    {
      "cell_type": "code",
      "metadata": {
        "id": "frMSlPglvubQ",
        "colab_type": "code",
        "outputId": "93b230d2-313e-4c36-db94-c2b04572c10f",
        "colab": {
          "base_uri": "https://localhost:8080/",
          "height": 72
        }
      },
      "source": [
        "def f(*args, **kwargs):\n",
        "   print ('args: ', args, ' kwargs: ', kwargs)\n",
        "\n",
        "f('a')\n",
        "# args:  ('a',)  kwargs:  {}\n",
        "\n",
        "f(ar='a')\n",
        "# args:  ()  kwargs:  {'ar': 'a'}\n",
        "\n",
        "f(1, 2, param=3)\n",
        "#args:  (1, 2)  kwargs:  {'param': 3}"
      ],
      "execution_count": 0,
      "outputs": [
        {
          "output_type": "stream",
          "text": [
            "args:  ('a',)  kwargs:  {}\n",
            "args:  ()  kwargs:  {'ar': 'a'}\n",
            "args:  (1, 2)  kwargs:  {'param': 3}\n"
          ],
          "name": "stdout"
        }
      ]
    },
    {
      "cell_type": "markdown",
      "metadata": {
        "id": "VBSH6ax7RAHj",
        "colab_type": "text"
      },
      "source": [
        "# Closure"
      ]
    },
    {
      "cell_type": "code",
      "metadata": {
        "id": "7bYV1BcSRI8F",
        "colab_type": "code",
        "outputId": "aa9944cd-da12-4395-9d16-f88664ec8fb1",
        "colab": {
          "base_uri": "https://localhost:8080/",
          "height": 53
        }
      },
      "source": [
        "def A(x):\n",
        "    def B():\n",
        "        print(x)\n",
        "    return B\n",
        "\n",
        "A(7)()\n",
        "\n",
        "myfunc=A(7)\n",
        "del A\n",
        "myfunc()\n"
      ],
      "execution_count": 0,
      "outputs": [
        {
          "output_type": "stream",
          "text": [
            "7\n",
            "7\n"
          ],
          "name": "stdout"
        }
      ]
    },
    {
      "cell_type": "markdown",
      "metadata": {
        "id": "iAEM4LyWX_Xr",
        "colab_type": "text"
      },
      "source": [
        "# Bitwise operators"
      ]
    },
    {
      "cell_type": "code",
      "metadata": {
        "id": "xNG0yTN6YBWH",
        "colab_type": "code",
        "outputId": "6811a513-7f3c-483d-e62c-96f3a109bf3c",
        "colab": {
          "base_uri": "https://localhost:8080/",
          "height": 35
        }
      },
      "source": [
        "# AND (&) This performs & on each bit pair.\n",
        "\n",
        "0b110 & 0b010"
      ],
      "execution_count": 0,
      "outputs": [
        {
          "output_type": "execute_result",
          "data": {
            "text/plain": [
              "2"
            ]
          },
          "metadata": {
            "tags": []
          },
          "execution_count": 47
        }
      ]
    },
    {
      "cell_type": "code",
      "metadata": {
        "id": "vBYt_-9oZBL7",
        "colab_type": "code",
        "outputId": "c2f11717-fe91-4530-a4c6-c922ed6c58b6",
        "colab": {
          "base_uri": "https://localhost:8080/",
          "height": 35
        }
      },
      "source": [
        ""
      ],
      "execution_count": 0,
      "outputs": [
        {
          "output_type": "execute_result",
          "data": {
            "text/plain": [
              "0"
            ]
          },
          "metadata": {
            "tags": []
          },
          "execution_count": 53
        }
      ]
    },
    {
      "cell_type": "code",
      "metadata": {
        "id": "04AgGgAwYZTy",
        "colab_type": "code",
        "outputId": "91bff693-7bb4-4002-ceeb-2b4ac749b71c",
        "colab": {
          "base_uri": "https://localhost:8080/",
          "height": 35
        }
      },
      "source": [
        "#\n",
        "~True"
      ],
      "execution_count": 0,
      "outputs": [
        {
          "output_type": "execute_result",
          "data": {
            "text/plain": [
              "-2"
            ]
          },
          "metadata": {
            "tags": []
          },
          "execution_count": 51
        }
      ]
    },
    {
      "cell_type": "markdown",
      "metadata": {
        "id": "ESZyPfeLfG4_",
        "colab_type": "text"
      },
      "source": [
        "# What is the difference between List And Tuple?"
      ]
    },
    {
      "cell_type": "markdown",
      "metadata": {
        "id": "GQl0uNhcfIUs",
        "colab_type": "text"
      },
      "source": [
        "List\n",
        "*    List objects are mutable\n",
        "*    Applying iterations on list objects takes longer time\n",
        "*    If the frequent operation is the insertion or deletion of the elements then it is recommended to use a list\n",
        "*    List can’t be used as a ‘key’ for the dictionary\n",
        "\n",
        "Tuple\n",
        "*    Tuple objects are immutable\n",
        "*    Applying iterations on tuple Objects takes less time\n",
        "*    If the frequent operation is the retrieval of the elements then it is recommended to use a tuple\n",
        "*    Tuple can be used as a key for the dictionary if the tuple is storing only immutable elements"
      ]
    },
    {
      "cell_type": "markdown",
      "metadata": {
        "id": "DbVEVVMMf1eK",
        "colab_type": "text"
      },
      "source": [
        "# What is the difference between Mutable and Immutable?"
      ]
    },
    {
      "cell_type": "markdown",
      "metadata": {
        "id": "ekEu_4aThx6F",
        "colab_type": "text"
      },
      "source": [
        "*    Mutable - list, dict, set"
      ]
    },
    {
      "cell_type": "code",
      "metadata": {
        "id": "vpxaYtvFh08Y",
        "colab_type": "code",
        "colab": {}
      },
      "source": [
        "# lists  \n",
        "color = [\"red\", \"blue\", \"green\"] \n",
        "print(color) \n",
        "  \n",
        "color[0] = \"pink\"\n",
        "color[-1] = \"orange\"\n",
        "print(color) "
      ],
      "execution_count": 0,
      "outputs": []
    },
    {
      "cell_type": "markdown",
      "metadata": {
        "id": "CqFnwikSg1dQ",
        "colab_type": "text"
      },
      "source": [
        "*    Immutable - in-built types like int, float, bool, string, unicode, tuple. Object that can’t be changed after it is created. "
      ]
    },
    {
      "cell_type": "code",
      "metadata": {
        "id": "IX_gqOyMhEsn",
        "colab_type": "code",
        "colab": {}
      },
      "source": [
        "# tuples\n",
        "tuple1 = (0, 1, 2, 3)  \n",
        "tuple1[0] = 4"
      ],
      "execution_count": 0,
      "outputs": []
    },
    {
      "cell_type": "code",
      "metadata": {
        "id": "rEC9S9a6hO08",
        "colab_type": "code",
        "colab": {}
      },
      "source": [
        "# strings  \n",
        "message = \"Welcome Home\"\n",
        "message[0] = 'p'"
      ],
      "execution_count": 0,
      "outputs": []
    },
    {
      "cell_type": "markdown",
      "metadata": {
        "id": "EH2LcqCVqc5g",
        "colab_type": "text"
      },
      "source": [
        "# Why we sometimes put leading underscore on identifier names?"
      ]
    },
    {
      "cell_type": "markdown",
      "metadata": {
        "id": "fpNgY8Zgrbas",
        "colab_type": "text"
      },
      "source": [
        "Since Python does not have a concept of private variables, it is a convention to use leading underscores to declare a variable private. This is why we mustn’t do that to variables we do not want to make private."
      ]
    },
    {
      "cell_type": "markdown",
      "metadata": {
        "id": "ma-eqK_DseqO",
        "colab_type": "text"
      },
      "source": [
        "# What is the Difference Between Methods & Constructors?"
      ]
    },
    {
      "cell_type": "markdown",
      "metadata": {
        "id": "i5JGsrFLsgU-",
        "colab_type": "text"
      },
      "source": [
        "Method\n",
        "*    Method will be executed whenever we call a method\n",
        "\n",
        "Constructor\n",
        "*    Constructor will be executed automatically whenever we create a object\n",
        "*     Constructors are created using \"\\_\\_init__\" method.This method always take \"self\" as the first argument which is reference to the object being initialized\n",
        "\n",
        "*    Only one constructor is allowed for a class.\n",
        "*    They don’t have any return type (required to return None)\n",
        "*    Constructors have same name as the class itself"
      ]
    },
    {
      "cell_type": "code",
      "metadata": {
        "id": "YaLlOM_7uu56",
        "colab_type": "code",
        "colab": {}
      },
      "source": [
        ""
      ],
      "execution_count": 0,
      "outputs": []
    },
    {
      "cell_type": "markdown",
      "metadata": {
        "id": "psNXaXS7wdf5",
        "colab_type": "text"
      },
      "source": [
        "# What is the Encapsulation?"
      ]
    },
    {
      "cell_type": "markdown",
      "metadata": {
        "id": "MrRE0Ooe1gUN",
        "colab_type": "text"
      },
      "source": [
        "https://mindmajix.com/python-interview-questions"
      ]
    },
    {
      "cell_type": "markdown",
      "metadata": {
        "id": "_EP8DEO8qYMc",
        "colab_type": "text"
      },
      "source": [
        "# What is the output: -5 % 4?"
      ]
    },
    {
      "cell_type": "markdown",
      "metadata": {
        "id": "7kjJu6Nbqthd",
        "colab_type": "text"
      },
      "source": [
        "Unlike C or C++, Python's modulo operator (%) always return a number having the same sign as the denominator (divisor).\n",
        "\n",
        "(-5) % 4 = (-2 × 4 + 3) % 4 = 3\n",
        "\n",
        "\n",
        "*    Python % always outputs zero or positive when the divisor is positive\n",
        "\n"
      ]
    },
    {
      "cell_type": "code",
      "metadata": {
        "id": "lhmXkYUtqZZC",
        "colab_type": "code",
        "colab": {}
      },
      "source": [
        "(-5%4) == (-2*4+3)%4 == 3"
      ],
      "execution_count": 0,
      "outputs": []
    },
    {
      "cell_type": "code",
      "metadata": {
        "id": "IHQfznTxr4Dg",
        "colab_type": "code",
        "colab": {}
      },
      "source": [
        "\n",
        "for n in range(-8, 8):\n",
        "    print (n, n//4, n%4)"
      ],
      "execution_count": 0,
      "outputs": []
    },
    {
      "cell_type": "markdown",
      "metadata": {
        "id": "P-O1OJ5isx_I",
        "colab_type": "text"
      },
      "source": [
        "# What is the output: -5 // 4?"
      ]
    },
    {
      "cell_type": "markdown",
      "metadata": {
        "id": "JHZ8LHFfs6yb",
        "colab_type": "text"
      },
      "source": [
        "\n",
        "\n",
        "*    Python // always rounds toward negative infinity (flooring always moves to the lower integer value)"
      ]
    },
    {
      "cell_type": "code",
      "metadata": {
        "id": "gnUVRf1Os1ft",
        "colab_type": "code",
        "outputId": "411081da-b8c6-475c-a955-f5e502fc1079",
        "colab": {
          "base_uri": "https://localhost:8080/",
          "height": 35
        }
      },
      "source": [
        "print(-5 // 4,\" (\",-5 / 4,\")\")"
      ],
      "execution_count": 0,
      "outputs": [
        {
          "output_type": "stream",
          "text": [
            "-2  ( -1.25 )\n"
          ],
          "name": "stdout"
        }
      ]
    },
    {
      "cell_type": "code",
      "metadata": {
        "id": "grk8y4ZJumHO",
        "colab_type": "code",
        "outputId": "454b4cfa-d3bd-4941-c364-8c8ede46d7fa",
        "colab": {
          "base_uri": "https://localhost:8080/",
          "height": 35
        }
      },
      "source": [
        "print(5 // 4,\" (\",5 / 4,\")\")"
      ],
      "execution_count": 0,
      "outputs": [
        {
          "output_type": "stream",
          "text": [
            "1  ( 1.25 )\n"
          ],
          "name": "stdout"
        }
      ]
    },
    {
      "cell_type": "markdown",
      "metadata": {
        "id": "KBPIPpLpv0yk",
        "colab_type": "text"
      },
      "source": [
        "# How to floor (//) towards 0"
      ]
    },
    {
      "cell_type": "code",
      "metadata": {
        "id": "_plUHa8Av8eu",
        "colab_type": "code",
        "colab": {}
      },
      "source": [
        "print(int(-5 / 4))"
      ],
      "execution_count": 0,
      "outputs": []
    },
    {
      "cell_type": "markdown",
      "metadata": {
        "id": "ELopzWlRyBJL",
        "colab_type": "text"
      },
      "source": [
        "# What id() function in Python is for?"
      ]
    },
    {
      "cell_type": "markdown",
      "metadata": {
        "id": "1v3JTOQ6yTn_",
        "colab_type": "text"
      },
      "source": [
        "id() returns the \"identity\" of the object. It is an integer, which is guaranteed to be unique and constant for this object during its lifetime. Two objects with non-overlapping lifetimes may have the same id() value.\n",
        "\n",
        "*    Python cache the strings and tuple objects and use them to save memory space.\n",
        "\n",
        "*     We can id() to make sure two objects are referring to the same object in memory or not."
      ]
    },
    {
      "cell_type": "code",
      "metadata": {
        "id": "p6ywPJ4yySkB",
        "colab_type": "code",
        "colab": {}
      },
      "source": [
        "# integers\n",
        "a = 10\n",
        "b = 10\n",
        "c = 11\n",
        "d = 12\n",
        "print(id(a))\n",
        "print(id(b))\n",
        "print(id(c))\n",
        "print(id(d))\n",
        "\n",
        "\n",
        "# tuples\n",
        "t = ('A', 'B')\n",
        "print(id(t))\n",
        "t1 = ('A', 'B')\n",
        "print(id(t1))\n",
        "\n",
        "\n",
        "# strings\n",
        "s1 = 'ABC'\n",
        "s2 = 'ABC'\n",
        "print(id(s1))\n",
        "print(id(s2))"
      ],
      "execution_count": 0,
      "outputs": []
    },
    {
      "cell_type": "markdown",
      "metadata": {
        "id": "txASiOyPzAFr",
        "colab_type": "text"
      },
      "source": [
        "# What is yield?"
      ]
    },
    {
      "cell_type": "markdown",
      "metadata": {
        "id": "VKU0RDxz2WkA",
        "colab_type": "text"
      },
      "source": [
        "yield is a keyword that is used like return, except the function will return a generator."
      ]
    },
    {
      "cell_type": "code",
      "metadata": {
        "id": "z8fure0Q2WBw",
        "colab_type": "code",
        "colab": {}
      },
      "source": [
        "def createGenerator():\n",
        "    mylist = range(3)\n",
        "    for i in mylist:\n",
        "        yield i*i\n",
        "\n",
        "mygenerator = createGenerator() # create a generator\n",
        "print(mygenerator) # mygenerator is an object!\n",
        "\n",
        "for i in mygenerator:\n",
        "    print(i)"
      ],
      "execution_count": 0,
      "outputs": []
    },
    {
      "cell_type": "markdown",
      "metadata": {
        "id": "ygFuY0ID4BkX",
        "colab_type": "text"
      },
      "source": [
        "# What are Iterables?"
      ]
    },
    {
      "cell_type": "markdown",
      "metadata": {
        "id": "oVuFiqUQ9adL",
        "colab_type": "text"
      },
      "source": [
        "lists, strings, files... Iterables are handy because you can read them as much as you wish "
      ]
    },
    {
      "cell_type": "code",
      "metadata": {
        "id": "XvDqkNj58Apn",
        "colab_type": "code",
        "colab": {}
      },
      "source": [
        "mylist = [1, 2, 3]  # mylist is an iterable\n",
        "\n",
        "for i in mylist:  # Reading list items one by one is called iteration\n",
        "    print(i)"
      ],
      "execution_count": 0,
      "outputs": []
    },
    {
      "cell_type": "markdown",
      "metadata": {
        "id": "-xhB1Oyp4GlG",
        "colab_type": "text"
      },
      "source": [
        "# What is generator?"
      ]
    },
    {
      "cell_type": "markdown",
      "metadata": {
        "id": "GxnnqLjt4LF3",
        "colab_type": "text"
      },
      "source": [
        "Generators are iterators, a kind of iterable you can only iterate over once. Generators do not store all the values in memory, they generate the values on the fly:\n",
        "\n",
        "*    you cannot perform `for i in mygenerator ` a second time since generators can only be used once: they calculate 0, then forget about it and calculate 1, and end calculating 4, one by one."
      ]
    },
    {
      "cell_type": "code",
      "metadata": {
        "id": "ecSGW2_i4J6z",
        "colab_type": "code",
        "colab": {}
      },
      "source": [
        "mygenerator = (x*x for x in range(3))\n",
        "for i in mygenerator:\n",
        "    print(i)\n",
        "    "
      ],
      "execution_count": 0,
      "outputs": []
    },
    {
      "cell_type": "markdown",
      "metadata": {
        "id": "FlUC44epAXGb",
        "colab_type": "text"
      },
      "source": [
        "# How to create a dictionary which can preserve the order of pairs? (From Python 3.6 onwards, the standard dict type maintains insertion order by default.)"
      ]
    },
    {
      "cell_type": "code",
      "metadata": {
        "id": "zYyD8ZiwAXe0",
        "colab_type": "code",
        "colab": {
          "base_uri": "https://localhost:8080/",
          "height": 208
        },
        "outputId": "7fef8b95-78da-492c-b4df-3c156cffa93c"
      },
      "source": [
        "from collections import OrderedDict\n",
        "\n",
        "words = OrderedDict([('He', True), ('will', True), ('be', True), ('the', True), ('winner', True)])\n",
        "OrderedDict((word, True) for word in words)"
      ],
      "execution_count": 1,
      "outputs": [
        {
          "output_type": "error",
          "ename": "NameError",
          "evalue": "ignored",
          "traceback": [
            "\u001b[0;31m---------------------------------------------------------------------------\u001b[0m",
            "\u001b[0;31mNameError\u001b[0m                                 Traceback (most recent call last)",
            "\u001b[0;32m<ipython-input-1-e7b135f7f919>\u001b[0m in \u001b[0;36m<module>\u001b[0;34m()\u001b[0m\n\u001b[1;32m      2\u001b[0m \u001b[0;34m\u001b[0m\u001b[0m\n\u001b[1;32m      3\u001b[0m \u001b[0;31m#words = OrderedDict([('He', True), ('will', True), ('be', True), ('the', True), ('winner', True)])\u001b[0m\u001b[0;34m\u001b[0m\u001b[0;34m\u001b[0m\u001b[0;34m\u001b[0m\u001b[0m\n\u001b[0;32m----> 4\u001b[0;31m \u001b[0mOrderedDict\u001b[0m\u001b[0;34m(\u001b[0m\u001b[0;34m(\u001b[0m\u001b[0mword\u001b[0m\u001b[0;34m,\u001b[0m \u001b[0;32mTrue\u001b[0m\u001b[0;34m)\u001b[0m \u001b[0;32mfor\u001b[0m \u001b[0mword\u001b[0m \u001b[0;32min\u001b[0m \u001b[0mwords\u001b[0m\u001b[0;34m)\u001b[0m\u001b[0;34m\u001b[0m\u001b[0;34m\u001b[0m\u001b[0m\n\u001b[0m",
            "\u001b[0;31mNameError\u001b[0m: name 'words' is not defined"
          ]
        }
      ]
    },
    {
      "cell_type": "code",
      "metadata": {
        "id": "WU-CerQeFPrw",
        "colab_type": "code",
        "colab": {}
      },
      "source": [
        ""
      ],
      "execution_count": 0,
      "outputs": []
    },
    {
      "cell_type": "markdown",
      "metadata": {
        "id": "YFn3MzrtAemC",
        "colab_type": "text"
      },
      "source": [
        "https://luminousmen.com/post/python-interview-questions-middle"
      ]
    }
  ]
}