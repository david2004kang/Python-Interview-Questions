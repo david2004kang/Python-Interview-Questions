{
  "nbformat": 4,
  "nbformat_minor": 0,
  "metadata": {
    "colab": {
      "name": "Untitled7.ipynb",
      "version": "0.3.2",
      "provenance": [],
      "include_colab_link": true
    },
    "kernelspec": {
      "name": "python3",
      "display_name": "Python 3"
    }
  },
  "cells": [
    {
      "cell_type": "markdown",
      "metadata": {
        "id": "view-in-github",
        "colab_type": "text"
      },
      "source": [
        "<a href=\"https://colab.research.google.com/github/mikazz/Python-Interview-Questions/blob/master/INTERVIEW_2.ipynb\" target=\"_parent\"><img src=\"https://colab.research.google.com/assets/colab-badge.svg\" alt=\"Open In Colab\"/></a>"
      ]
    },
    {
      "cell_type": "markdown",
      "metadata": {
        "id": "JcrtYdekqG1r",
        "colab_type": "text"
      },
      "source": [
        "# What happens when a function doesn’t have a return statement ? Is this valid?"
      ]
    },
    {
      "cell_type": "markdown",
      "metadata": {
        "id": "AFVXTWXLqLYJ",
        "colab_type": "text"
      },
      "source": [
        "There is no such thing as \"returning nothing\" in Python. Every function returns some value (unless it raises an exception). If no explicit return statement is used, Python treats it as returning None"
      ]
    },
    {
      "cell_type": "markdown",
      "metadata": {
        "id": "1zfMC4a4qrRV",
        "colab_type": "text"
      },
      "source": [
        "# What is the lambda operator?"
      ]
    },
    {
      "cell_type": "markdown",
      "metadata": {
        "id": "lcZRY11Jqoky",
        "colab_type": "text"
      },
      "source": [
        "The lambda operator is used to create anonymous functions. It is mostly used in cases where one wishes to pass functions as parameters. or assign them to variable names."
      ]
    },
    {
      "cell_type": "code",
      "metadata": {
        "id": "yVB5PDgiq3N3",
        "colab_type": "code",
        "colab": {}
      },
      "source": [
        "# A lambda function that adds 10 to the number\n",
        "# passed in as an argument, and print the result:\n",
        "x = lambda a : a + 10\n",
        "print(x(5)) "
      ],
      "execution_count": 0,
      "outputs": []
    },
    {
      "cell_type": "markdown",
      "metadata": {
        "id": "34wl0jc-rA3F",
        "colab_type": "text"
      },
      "source": [
        "# Explain the difference between local and global namespaces?"
      ]
    },
    {
      "cell_type": "markdown",
      "metadata": {
        "id": "e_BQC3bwrFEY",
        "colab_type": "text"
      },
      "source": [
        "*    Local namespaces are created within a function. when that function is called. \n",
        "*    Global name spaces are created when the program starts."
      ]
    },
    {
      "cell_type": "markdown",
      "metadata": {
        "id": "D89Saci0toiE",
        "colab_type": "text"
      },
      "source": [
        "# Differentiate between continue and break"
      ]
    },
    {
      "cell_type": "markdown",
      "metadata": {
        "id": "QOP0OflltuGy",
        "colab_type": "text"
      },
      "source": [
        "*    break leaves a loop\n",
        "*    continue jumps to the next iteration"
      ]
    },
    {
      "cell_type": "markdown",
      "metadata": {
        "id": "BRUxzv5n2C9C",
        "colab_type": "text"
      },
      "source": [
        "# Differentiate between deep and shallow copy."
      ]
    },
    {
      "cell_type": "markdown",
      "metadata": {
        "id": "q64jmkYj2boM",
        "colab_type": "text"
      },
      "source": [
        "*    Deep copy copies an object into another. This means that if you make a change to a copy of an object, it won’t affect the original object."
      ]
    },
    {
      "cell_type": "code",
      "metadata": {
        "id": "mGpb9Ap83gSV",
        "colab_type": "code",
        "colab": {
          "base_uri": "https://localhost:8080/",
          "height": 53
        },
        "outputId": "04b03287-5f59-4f33-efb0-c14fcc751cac"
      },
      "source": [
        "import copy\n",
        "\n",
        "old_list = [[1, 1, 1], [2, 2, 2], [3, 3, 3]]\n",
        "new_list = copy.deepcopy(old_list)\n",
        "\n",
        "print(\"Old list:\", old_list)\n",
        "print(\"New list:\", new_list)\n"
      ],
      "execution_count": 13,
      "outputs": [
        {
          "output_type": "stream",
          "text": [
            "Old list: [[1, 1, 1], [2, 2, 2], [3, 3, 3]]\n",
            "New list: [[1, 1, 1], [2, 2, 2], [3, 3, 3]]\n"
          ],
          "name": "stdout"
        }
      ]
    },
    {
      "cell_type": "markdown",
      "metadata": {
        "id": "P4-UsEIB3-VJ",
        "colab_type": "text"
      },
      "source": [
        "*    Shallow copy copies one object’s reference to another. So, if we make a change in the copy, it will affect the original object."
      ]
    },
    {
      "cell_type": "code",
      "metadata": {
        "id": "xVyDKPfW4EUO",
        "colab_type": "code",
        "colab": {
          "base_uri": "https://localhost:8080/",
          "height": 90
        },
        "outputId": "49c5507a-35dd-4ab3-e227-dfedc319674b"
      },
      "source": [
        "import copy\n",
        "\n",
        "xs = [[1, 2, 3], [4, 5, 6], [7, 8, 9]]\n",
        "ys = copy.copy(xs) # Make a shallow copy\n",
        "\n",
        "print(xs)\n",
        "print(ys)\n",
        "\n",
        "# ys still contains references to the original child objects stored in xs\n",
        "# when you modify one of the child objects in xs, this modification will be \n",
        "# reflected in ys as well—that’s because both lists share the same child objects.\n",
        "\n",
        "xs[1][0] = 'X'\n",
        "\n",
        "print(xs)\n",
        "print(ys)\n"
      ],
      "execution_count": 20,
      "outputs": [
        {
          "output_type": "stream",
          "text": [
            "[[1, 2, 3], [4, 5, 6], [7, 8, 9]]\n",
            "[[1, 2, 3], [4, 5, 6], [7, 8, 9]]\n",
            "[[1, 2, 3], ['X', 5, 6], [7, 8, 9]]\n",
            "[[1, 2, 3], ['X', 5, 6], [7, 8, 9]]\n"
          ],
          "name": "stdout"
        }
      ]
    }
  ]
}