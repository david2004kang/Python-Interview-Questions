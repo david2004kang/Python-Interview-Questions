{
  "nbformat": 4,
  "nbformat_minor": 0,
  "metadata": {
    "colab": {
      "name": "Untitled7.ipynb",
      "version": "0.3.2",
      "provenance": [],
      "include_colab_link": true
    },
    "kernelspec": {
      "name": "python3",
      "display_name": "Python 3"
    }
  },
  "cells": [
    {
      "cell_type": "markdown",
      "metadata": {
        "id": "view-in-github",
        "colab_type": "text"
      },
      "source": [
        "<a href=\"https://colab.research.google.com/github/mikazz/Python-Interview-Questions/blob/master/INTERVIEW_2.ipynb\" target=\"_parent\"><img src=\"https://colab.research.google.com/assets/colab-badge.svg\" alt=\"Open In Colab\"/></a>"
      ]
    },
    {
      "cell_type": "markdown",
      "metadata": {
        "id": "JcrtYdekqG1r",
        "colab_type": "text"
      },
      "source": [
        "# What happens when a function doesn’t have a return statement ? Is this valid?"
      ]
    },
    {
      "cell_type": "markdown",
      "metadata": {
        "id": "AFVXTWXLqLYJ",
        "colab_type": "text"
      },
      "source": [
        "There is no such thing as \"returning nothing\" in Python. Every function returns some value (unless it raises an exception). If no explicit return statement is used, Python treats it as returning None"
      ]
    },
    {
      "cell_type": "markdown",
      "metadata": {
        "id": "1zfMC4a4qrRV",
        "colab_type": "text"
      },
      "source": [
        "# What is the lambda operator?"
      ]
    },
    {
      "cell_type": "markdown",
      "metadata": {
        "id": "lcZRY11Jqoky",
        "colab_type": "text"
      },
      "source": [
        "The lambda operator is used to create anonymous functions. It is mostly used in cases where one wishes to pass functions as parameters. or assign them to variable names."
      ]
    },
    {
      "cell_type": "code",
      "metadata": {
        "id": "yVB5PDgiq3N3",
        "colab_type": "code",
        "colab": {}
      },
      "source": [
        "# A lambda function that adds 10 to the number\n",
        "# passed in as an argument, and print the result:\n",
        "x = lambda a : a + 10\n",
        "print(x(5)) "
      ],
      "execution_count": 0,
      "outputs": []
    },
    {
      "cell_type": "markdown",
      "metadata": {
        "id": "34wl0jc-rA3F",
        "colab_type": "text"
      },
      "source": [
        "# Explain the difference between local and global namespaces?"
      ]
    },
    {
      "cell_type": "markdown",
      "metadata": {
        "id": "e_BQC3bwrFEY",
        "colab_type": "text"
      },
      "source": [
        "*    Local namespaces are created within a function. when that function is called. \n",
        "*    Global name spaces are created when the program starts."
      ]
    },
    {
      "cell_type": "markdown",
      "metadata": {
        "id": "D89Saci0toiE",
        "colab_type": "text"
      },
      "source": [
        "# Differentiate between continue and break"
      ]
    },
    {
      "cell_type": "markdown",
      "metadata": {
        "id": "QOP0OflltuGy",
        "colab_type": "text"
      },
      "source": [
        "*    break leaves a loop\n",
        "*    continue jumps to the next iteration"
      ]
    },
    {
      "cell_type": "markdown",
      "metadata": {
        "id": "BRUxzv5n2C9C",
        "colab_type": "text"
      },
      "source": [
        "# Differentiate between deep and shallow copy."
      ]
    },
    {
      "cell_type": "markdown",
      "metadata": {
        "id": "P4-UsEIB3-VJ",
        "colab_type": "text"
      },
      "source": [
        "*    Shallow copy copies one object’s reference to another. So, if we make a change in the copy, it will affect the original object."
      ]
    },
    {
      "cell_type": "code",
      "metadata": {
        "id": "xVyDKPfW4EUO",
        "colab_type": "code",
        "colab": {}
      },
      "source": [
        "import copy\n",
        "\n",
        "xs = [[1, 2, 3], [4, 5, 6], [7, 8, 9]]\n",
        "ys = copy.copy(xs)  # Make a shallow copy\n",
        "\n",
        "print(xs)\n",
        "print(ys)\n",
        "\n",
        "# ys still contains references to the original child objects stored in xs\n",
        "# when you modify one of the child objects in xs, this modification will be \n",
        "# reflected in ys as well—that’s because both lists share the same child objects.\n",
        "\n",
        "xs[1][0] = 'X'\n",
        "\n",
        "print(xs)\n",
        "print(ys)\n"
      ],
      "execution_count": 0,
      "outputs": []
    },
    {
      "cell_type": "markdown",
      "metadata": {
        "id": "q64jmkYj2boM",
        "colab_type": "text"
      },
      "source": [
        "*    Deep copy copies an object into another. This means that if you make a change to a copy of an object, it won’t affect the original object."
      ]
    },
    {
      "cell_type": "code",
      "metadata": {
        "id": "mGpb9Ap83gSV",
        "colab_type": "code",
        "colab": {}
      },
      "source": [
        "import copy\n",
        "\n",
        "xs = [[1, 2, 3], [4, 5, 6], [7, 8, 9]]\n",
        "zs = copy.deepcopy(xs)  #Make a deep copy\n",
        "\n",
        "print(xs)\n",
        "print(zs)\n",
        "\n",
        "# Both objects, the original and the copy, are fully independent this time. \n",
        "# xs was cloned recursively, including all of its child objects\n",
        "\n",
        "xs[1][0] = 'X'\n",
        "\n",
        "print(xs)\n",
        "print(zs)\n",
        "\n"
      ],
      "execution_count": 0,
      "outputs": []
    },
    {
      "cell_type": "markdown",
      "metadata": {
        "id": "aixrCD3KAyPK",
        "colab_type": "text"
      },
      "source": [
        "# What is monkey patching?"
      ]
    },
    {
      "cell_type": "markdown",
      "metadata": {
        "id": "ov7LWoi5BkvQ",
        "colab_type": "text"
      },
      "source": [
        "Dynamically extending or modifying a class or module at run-time.\n"
      ]
    },
    {
      "cell_type": "code",
      "metadata": {
        "id": "Vtb5yisNA7vi",
        "colab_type": "code",
        "outputId": "b8a44aa7-0766-435f-f6a0-4018fcccb3f5",
        "colab": {
          "base_uri": "https://localhost:8080/",
          "height": 35
        }
      },
      "source": [
        "import math\n",
        "\n",
        "def sqrt(self):\n",
        "    return \"I cant do math\"\n",
        "\n",
        "math.sqrt = sqrt\n",
        "\n",
        "print(math.sqrt(4))"
      ],
      "execution_count": 0,
      "outputs": [
        {
          "output_type": "stream",
          "text": [
            "I cant do math\n"
          ],
          "name": "stdout"
        }
      ]
    },
    {
      "cell_type": "markdown",
      "metadata": {
        "id": "bPowTDQ-EiNo",
        "colab_type": "text"
      },
      "source": [
        "# What do you mean by \\*args and **kwargs?"
      ]
    },
    {
      "cell_type": "markdown",
      "metadata": {
        "id": "CJzOKy11Emzl",
        "colab_type": "text"
      },
      "source": [
        "*    *args \n",
        "\n",
        "*    **kwargs takes keyword arguments when we don’t know how many there will be."
      ]
    },
    {
      "cell_type": "code",
      "metadata": {
        "id": "FsqmUMAXErEL",
        "colab_type": "code",
        "colab": {}
      },
      "source": [
        "def func(*args):\n",
        "    # args is a tuple\n",
        "    for i in args:\n",
        "        print(i)\n",
        "\n",
        "func(3, 2, 1, 4, 7)  # Arguments"
      ],
      "execution_count": 0,
      "outputs": []
    },
    {
      "cell_type": "code",
      "metadata": {
        "id": "9VXOpBpYFkVc",
        "colab_type": "code",
        "colab": {}
      },
      "source": [
        "def func(**kwargs):\n",
        "    # kwargs is a dictionary\n",
        "    for i in kwargs:\n",
        "        print(i,kwargs[i])\n",
        "        \n",
        "func(a=1, b=2, c=7)  # Keyword Arguments"
      ],
      "execution_count": 0,
      "outputs": []
    },
    {
      "cell_type": "code",
      "metadata": {
        "id": "frMSlPglvubQ",
        "colab_type": "code",
        "colab": {
          "base_uri": "https://localhost:8080/",
          "height": 72
        },
        "outputId": "93b230d2-313e-4c36-db94-c2b04572c10f"
      },
      "source": [
        "def f(*args, **kwargs):\n",
        "   print ('args: ', args, ' kwargs: ', kwargs)\n",
        "\n",
        "f('a')\n",
        "# args:  ('a',)  kwargs:  {}\n",
        "\n",
        "f(ar='a')\n",
        "# args:  ()  kwargs:  {'ar': 'a'}\n",
        "\n",
        "f(1, 2, param=3)\n",
        "#args:  (1, 2)  kwargs:  {'param': 3}"
      ],
      "execution_count": 2,
      "outputs": [
        {
          "output_type": "stream",
          "text": [
            "args:  ('a',)  kwargs:  {}\n",
            "args:  ()  kwargs:  {'ar': 'a'}\n",
            "args:  (1, 2)  kwargs:  {'param': 3}\n"
          ],
          "name": "stdout"
        }
      ]
    },
    {
      "cell_type": "markdown",
      "metadata": {
        "id": "VBSH6ax7RAHj",
        "colab_type": "text"
      },
      "source": [
        "# Closure"
      ]
    },
    {
      "cell_type": "code",
      "metadata": {
        "id": "7bYV1BcSRI8F",
        "colab_type": "code",
        "outputId": "aa9944cd-da12-4395-9d16-f88664ec8fb1",
        "colab": {
          "base_uri": "https://localhost:8080/",
          "height": 53
        }
      },
      "source": [
        "def A(x):\n",
        "    def B():\n",
        "        print(x)\n",
        "    return B\n",
        "\n",
        "A(7)()\n",
        "\n",
        "myfunc=A(7)\n",
        "del A\n",
        "myfunc()\n"
      ],
      "execution_count": 0,
      "outputs": [
        {
          "output_type": "stream",
          "text": [
            "7\n",
            "7\n"
          ],
          "name": "stdout"
        }
      ]
    },
    {
      "cell_type": "markdown",
      "metadata": {
        "id": "iAEM4LyWX_Xr",
        "colab_type": "text"
      },
      "source": [
        "# Bitwise operators"
      ]
    },
    {
      "cell_type": "code",
      "metadata": {
        "id": "xNG0yTN6YBWH",
        "colab_type": "code",
        "outputId": "6811a513-7f3c-483d-e62c-96f3a109bf3c",
        "colab": {
          "base_uri": "https://localhost:8080/",
          "height": 35
        }
      },
      "source": [
        "# AND (&) This performs & on each bit pair.\n",
        "\n",
        "0b110 & 0b010"
      ],
      "execution_count": 0,
      "outputs": [
        {
          "output_type": "execute_result",
          "data": {
            "text/plain": [
              "2"
            ]
          },
          "metadata": {
            "tags": []
          },
          "execution_count": 47
        }
      ]
    },
    {
      "cell_type": "code",
      "metadata": {
        "id": "vBYt_-9oZBL7",
        "colab_type": "code",
        "outputId": "c2f11717-fe91-4530-a4c6-c922ed6c58b6",
        "colab": {
          "base_uri": "https://localhost:8080/",
          "height": 35
        }
      },
      "source": [
        ""
      ],
      "execution_count": 0,
      "outputs": [
        {
          "output_type": "execute_result",
          "data": {
            "text/plain": [
              "0"
            ]
          },
          "metadata": {
            "tags": []
          },
          "execution_count": 53
        }
      ]
    },
    {
      "cell_type": "code",
      "metadata": {
        "id": "04AgGgAwYZTy",
        "colab_type": "code",
        "outputId": "91bff693-7bb4-4002-ceeb-2b4ac749b71c",
        "colab": {
          "base_uri": "https://localhost:8080/",
          "height": 35
        }
      },
      "source": [
        "#\n",
        "~True"
      ],
      "execution_count": 0,
      "outputs": [
        {
          "output_type": "execute_result",
          "data": {
            "text/plain": [
              "-2"
            ]
          },
          "metadata": {
            "tags": []
          },
          "execution_count": 51
        }
      ]
    },
    {
      "cell_type": "markdown",
      "metadata": {
        "id": "ESZyPfeLfG4_",
        "colab_type": "text"
      },
      "source": [
        "# What is the difference between List And Tuple?"
      ]
    },
    {
      "cell_type": "markdown",
      "metadata": {
        "id": "GQl0uNhcfIUs",
        "colab_type": "text"
      },
      "source": [
        "List\n",
        "*    List objects are mutable\n",
        "*    Applying iterations on list objects takes longer time\n",
        "*    If the frequent operation is the insertion or deletion of the elements then it is recommended to use a list\n",
        "*    List can’t be used as a ‘key’ for the dictionary\n",
        "\n",
        "Tuple\n",
        "*    Tuple objects are immutable\n",
        "*    Applying iterations on tuple Objects takes less time\n",
        "*    If the frequent operation is the retrieval of the elements then it is recommended to use a tuple\n",
        "*    Tuple can be used as a key for the dictionary if the tuple is storing only immutable elements"
      ]
    },
    {
      "cell_type": "markdown",
      "metadata": {
        "id": "DbVEVVMMf1eK",
        "colab_type": "text"
      },
      "source": [
        "# What is the difference between Mutable and Immutable?"
      ]
    },
    {
      "cell_type": "markdown",
      "metadata": {
        "id": "ekEu_4aThx6F",
        "colab_type": "text"
      },
      "source": [
        "*    Mutable - list, dict, set"
      ]
    },
    {
      "cell_type": "code",
      "metadata": {
        "id": "vpxaYtvFh08Y",
        "colab_type": "code",
        "colab": {}
      },
      "source": [
        "# lists  \n",
        "color = [\"red\", \"blue\", \"green\"] \n",
        "print(color) \n",
        "  \n",
        "color[0] = \"pink\"\n",
        "color[-1] = \"orange\"\n",
        "print(color) "
      ],
      "execution_count": 0,
      "outputs": []
    },
    {
      "cell_type": "markdown",
      "metadata": {
        "id": "CqFnwikSg1dQ",
        "colab_type": "text"
      },
      "source": [
        "*    Immutable - in-built types like int, float, bool, string, unicode, tuple. Object that can’t be changed after it is created. "
      ]
    },
    {
      "cell_type": "code",
      "metadata": {
        "id": "IX_gqOyMhEsn",
        "colab_type": "code",
        "colab": {}
      },
      "source": [
        "# tuples\n",
        "tuple1 = (0, 1, 2, 3)  \n",
        "tuple1[0] = 4"
      ],
      "execution_count": 0,
      "outputs": []
    },
    {
      "cell_type": "code",
      "metadata": {
        "id": "rEC9S9a6hO08",
        "colab_type": "code",
        "colab": {}
      },
      "source": [
        "# strings  \n",
        "message = \"Welcome Home\"\n",
        "message[0] = 'p'"
      ],
      "execution_count": 0,
      "outputs": []
    },
    {
      "cell_type": "markdown",
      "metadata": {
        "id": "EH2LcqCVqc5g",
        "colab_type": "text"
      },
      "source": [
        "# Why we sometimes put leading underscore on identifier names?"
      ]
    },
    {
      "cell_type": "markdown",
      "metadata": {
        "id": "fpNgY8Zgrbas",
        "colab_type": "text"
      },
      "source": [
        "Since Python does not have a concept of private variables, it is a convention to use leading underscores to declare a variable private. This is why we mustn’t do that to variables we do not want to make private."
      ]
    },
    {
      "cell_type": "markdown",
      "metadata": {
        "id": "ma-eqK_DseqO",
        "colab_type": "text"
      },
      "source": [
        "# What is the Difference Between Methods & Constructors?"
      ]
    },
    {
      "cell_type": "markdown",
      "metadata": {
        "id": "i5JGsrFLsgU-",
        "colab_type": "text"
      },
      "source": [
        "Method\n",
        "*    Method will be executed whenever we call a method\n",
        "\n",
        "Constructor\n",
        "*    Constructor will be executed automatically whenever we create a object\n",
        "*     Constructors are created using \"\\_\\_init__\" method.This method always take \"self\" as the first argument which is reference to the object being initialized\n",
        "\n",
        "*    Only one constructor is allowed for a class.\n",
        "*    They don’t have any return type (required to return None)\n",
        "*    Constructors have same name as the class itself"
      ]
    },
    {
      "cell_type": "code",
      "metadata": {
        "id": "YaLlOM_7uu56",
        "colab_type": "code",
        "colab": {}
      },
      "source": [
        ""
      ],
      "execution_count": 0,
      "outputs": []
    },
    {
      "cell_type": "markdown",
      "metadata": {
        "id": "psNXaXS7wdf5",
        "colab_type": "text"
      },
      "source": [
        "# What is the Encapsulation?"
      ]
    },
    {
      "cell_type": "markdown",
      "metadata": {
        "id": "MrRE0Ooe1gUN",
        "colab_type": "text"
      },
      "source": [
        "https://mindmajix.com/python-interview-questions"
      ]
    }
  ]
}