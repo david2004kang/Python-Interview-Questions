{
  "nbformat": 4,
  "nbformat_minor": 0,
  "metadata": {
    "colab": {
      "name": "INTERVIEW_CODE.ipynb",
      "version": "0.3.2",
      "provenance": [],
      "include_colab_link": true
    },
    "kernelspec": {
      "name": "python3",
      "display_name": "Python 3"
    }
  },
  "cells": [
    {
      "cell_type": "markdown",
      "metadata": {
        "id": "view-in-github",
        "colab_type": "text"
      },
      "source": [
        "<a href=\"https://colab.research.google.com/github/mikazz/Python-Interview-Questions/blob/master/INTERVIEW_CODE.ipynb\" target=\"_parent\"><img src=\"https://colab.research.google.com/assets/colab-badge.svg\" alt=\"Open In Colab\"/></a>"
      ]
    },
    {
      "cell_type": "markdown",
      "metadata": {
        "id": "NmPPN-2i9otI",
        "colab_type": "text"
      },
      "source": [
        "https://www.linkedin.com/pulse/cracking-linkedin-tech-interview-szczepan-faber\n",
        "\n",
        "https://www.careercup.com/page?pid=python-interview-questions\n",
        "\n",
        "https://www.careercup.com/question?id=5757368000839680\n"
      ]
    },
    {
      "cell_type": "markdown",
      "metadata": {
        "id": "MM6fwQAZ9Dok",
        "colab_type": "text"
      },
      "source": [
        "# Given two strings of comma-seperated values, sort and return the second list based on the ordering of the first list."
      ]
    },
    {
      "cell_type": "code",
      "metadata": {
        "id": "ALTXUKs481GD",
        "colab_type": "code",
        "outputId": "6d7cea1d-5aa0-4533-8d76-809cf6b6061e",
        "colab": {
          "base_uri": "https://localhost:8080/",
          "height": 53
        }
      },
      "source": [
        "def sort_list(list1, list2): \n",
        "  \n",
        "    zipped_pairs = zip(list2, list1) \n",
        "  \n",
        "    z = [x for _, x in sorted(zipped_pairs)] \n",
        "      \n",
        "    return z \n",
        "\n",
        "\n",
        "n = \"a,b,c,d,e,f,g,h,i\"\n",
        "m = \"0,1,1,0,1,2,2,0,1\"\n",
        "x = n.split(\",\")\n",
        "y = m.split(\",\")\n",
        "print(sort_list(x, y))\n",
        "\n",
        "\n",
        "n = \"g,e,e,k,s,f,o,r,g,e,e,k,s\"\n",
        "m = \"0,1,1,0,1,2,2,0,1\"\n",
        "x = n.split(\",\")\n",
        "y = m.split(\",\")\n",
        "print(sort_list(x, y)) \n",
        "\n"
      ],
      "execution_count": 0,
      "outputs": [
        {
          "output_type": "stream",
          "text": [
            "['a', 'd', 'h', 'b', 'c', 'e', 'i', 'f', 'g']\n",
            "['g', 'k', 'r', 'e', 'e', 'g', 's', 'f', 'o']\n"
          ],
          "name": "stdout"
        }
      ]
    },
    {
      "cell_type": "markdown",
      "metadata": {
        "id": "8G4Lrp7dCsu7",
        "colab_type": "text"
      },
      "source": [
        "# Given an list of 100 numbers, find the (unique set) of duplicate values.\n"
      ]
    },
    {
      "cell_type": "code",
      "metadata": {
        "id": "1Ql4EcjPCsSu",
        "colab_type": "code",
        "colab": {}
      },
      "source": [
        "#import random\n",
        "#random_list = [random.randint(0,100) for i in range(100)]\n",
        "random_list = [0, 0, 1, 1, 2, 3, 4, 5]\n",
        "\n",
        "print(random_list)\n",
        "\n",
        "def keep_duplicates(iterable):\n",
        "    seen = set()\n",
        "    duplicates = set()\n",
        "    for x in iterable:\n",
        "        if x in seen and x not in duplicates:\n",
        "            yield x\n",
        "            duplicates.add(x)\n",
        "        else:\n",
        "            seen.add(x)\n",
        "    \n",
        " \n",
        "print(list(keep_duplicates(random_list)))"
      ],
      "execution_count": 0,
      "outputs": []
    },
    {
      "cell_type": "markdown",
      "metadata": {
        "id": "QiPQhIVBFu4B",
        "colab_type": "text"
      },
      "source": [
        "# Given an list of 100 numbers, find the (unique set) of unique values."
      ]
    },
    {
      "cell_type": "code",
      "metadata": {
        "id": "2aF8DBo3Fvga",
        "colab_type": "code",
        "colab": {}
      },
      "source": [
        "import random\n",
        "random_list = [random.randint(0,100) for i in range(100)]\n",
        "print(list)\n",
        "\n",
        "seen = set()\n",
        "uniq = []\n",
        "for x in random_list:\n",
        "    if x not in seen:\n",
        "        uniq.append(x)\n",
        "        seen.add(x)\n",
        "        \n",
        "print(seen)"
      ],
      "execution_count": 0,
      "outputs": []
    },
    {
      "cell_type": "markdown",
      "metadata": {
        "id": "QqZcQYycLnaw",
        "colab_type": "text"
      },
      "source": [
        "# Find all of the different permutations of a string. Your answer should not contain duplicates."
      ]
    },
    {
      "cell_type": "code",
      "metadata": {
        "id": "K0uFR2cgLpfC",
        "colab_type": "code",
        "colab": {}
      },
      "source": [
        "from itertools import permutations\n",
        "\n",
        "string = \"stass\"\n",
        "perms = [''.join(p) for p in permutations(string)]\n",
        "print(perms)\n",
        "\n",
        "print(\"With duplicates: \", len(perms), \"Without duplicates: \", len(set(perms)))"
      ],
      "execution_count": 0,
      "outputs": []
    },
    {
      "cell_type": "markdown",
      "metadata": {
        "id": "ZAoSngKCM82R",
        "colab_type": "text"
      },
      "source": [
        "# Find all of the different permutations of a string without using any built-in permutation functions. Your answer should not contain duplicates."
      ]
    },
    {
      "cell_type": "markdown",
      "metadata": {
        "id": "2x0RpXTYOHca",
        "colab_type": "text"
      },
      "source": [
        "#  Read data from a API call that gives org structure data in JSON format and arrange that data in requested format"
      ]
    },
    {
      "cell_type": "code",
      "metadata": {
        "id": "UtY4xJNlOSkH",
        "colab_type": "code",
        "colab": {}
      },
      "source": [
        "import requests\n",
        "\n",
        "resp = requests.get(\"https://api.spacexdata.com/v3/capsules/past\")\n",
        "\n",
        "if resp.status_code != 200:\n",
        "    # This means something went wrong.\n",
        "    raise ApiError('GET /tasks/ {}'.format(resp.status_code))\n",
        "\n",
        "for item in resp.json():\n",
        "    print('Capsule: {} Time: {} Status: {}'.format(item['capsule_serial'], item['original_launch_unix'], item['status']))\n"
      ],
      "execution_count": 0,
      "outputs": []
    },
    {
      "cell_type": "markdown",
      "metadata": {
        "id": "HGEJ84G5RlKl",
        "colab_type": "text"
      },
      "source": [
        "#  print LinkedIn if a number is divisible by 4 and 6, Linked if it is divisible by 4 and in it is by 6"
      ]
    },
    {
      "cell_type": "code",
      "metadata": {
        "id": "SrVk0hqsRrE9",
        "colab_type": "code",
        "colab": {}
      },
      "source": [
        "for i in range(0, 100):\n",
        "    if i % 4 == 0 and i % 6 == 0:\n",
        "        print(i, \"Linkedin\")\n",
        "    elif i % 4 == 0:\n",
        "        print(i, \"Linked\")\n",
        "    elif i % 6 == 0:\n",
        "        print(i, \"in\")\n",
        "    else:\n",
        "        print(i)"
      ],
      "execution_count": 0,
      "outputs": []
    },
    {
      "cell_type": "markdown",
      "metadata": {
        "id": "nT-0nR59VUJJ",
        "colab_type": "text"
      },
      "source": [
        "#  A Courier running firm want to automate the job of “service coverage area” based on the pin code of the AREA and it should display the message as mentioned below If service is available then display the statement: Service available for the locality: Area Name Otherwise display the statement: No Service available for the locality: Pincode Develop a Python program for the implementation of the above scenario?"
      ]
    },
    {
      "cell_type": "code",
      "metadata": {
        "id": "KgQBfciUVXT3",
        "colab_type": "code",
        "colab": {}
      },
      "source": [
        "my_dict = {'01': True, '02': True, '05': False}\n",
        "\n",
        "def if_avaiable(key):\n",
        "    if key in my_dict:\n",
        "        print(\"Key Exists: \" + key)\n",
        "        for key, value in my_dict.items():\n",
        "            if value == True:\n",
        "                return \"Service available\"\n",
        "            else:\n",
        "                return \"Service unavaiable\"\n",
        "    else:\n",
        "        return \"Code area not Found\"\n",
        "    \n",
        "if_avaiable(\"01\")"
      ],
      "execution_count": 0,
      "outputs": []
    },
    {
      "cell_type": "markdown",
      "metadata": {
        "id": "a3sd1sNdZB-e",
        "colab_type": "text"
      },
      "source": [
        "# Given a string as your input, delete any reoccurring character, and return the new string. input = \"aabbcc\" output = \"abc\""
      ]
    },
    {
      "cell_type": "code",
      "metadata": {
        "id": "Ujg9FAoAZFPa",
        "colab_type": "code",
        "outputId": "b274f931-d1b6-4f30-dcb8-2879d17ac0f8",
        "colab": {
          "base_uri": "https://localhost:8080/",
          "height": 35
        }
      },
      "source": [
        "from itertools import groupby\n",
        "\n",
        "input = \"aabbcc\"\n",
        "output = ''.join(c for c, _ in groupby(input))\n",
        "print(output)"
      ],
      "execution_count": 0,
      "outputs": [
        {
          "output_type": "stream",
          "text": [
            "abc\n"
          ],
          "name": "stdout"
        }
      ]
    },
    {
      "cell_type": "code",
      "metadata": {
        "id": "lmCIBLyhaDpR",
        "colab_type": "code",
        "outputId": "42ea2634-826b-4ed8-eb23-67d0af81cafa",
        "colab": {
          "base_uri": "https://localhost:8080/",
          "height": 35
        }
      },
      "source": [
        "input = \"aabbcc\"\n",
        "\n",
        "def remove_reoccurring(input):\n",
        "    word = []\n",
        "    word.append(input[0])  # If we wont do this we will get IndexError when word[-1] on empty list\n",
        "    \n",
        "    for i in input:\n",
        "        if i != word[-1]:\n",
        "            word.append(i)\n",
        "\n",
        "    return ''.join(word)\n",
        "\n",
        "print(remove_reoccurring(input))"
      ],
      "execution_count": 0,
      "outputs": [
        {
          "output_type": "stream",
          "text": [
            "abc\n"
          ],
          "name": "stdout"
        }
      ]
    },
    {
      "cell_type": "code",
      "metadata": {
        "id": "0dNjVGgFcQkw",
        "colab_type": "code",
        "outputId": "2a4f9667-af62-4588-82ac-7f5c9efc6f72",
        "colab": {
          "base_uri": "https://localhost:8080/",
          "height": 35
        }
      },
      "source": [
        "input = \"aabbcc\"\n",
        "\n",
        "def delete_reoccurring_characters(string):\n",
        "    seenCharacters = set()\n",
        "    outputString = ''\n",
        "    for char in string:\n",
        "        if char not in seenCharacters:\n",
        "            seenCharacters.add(char)\n",
        "            outputString += char\n",
        "    return outputString\n",
        "        \n",
        "print(delete_reoccurring_characters(input))"
      ],
      "execution_count": 0,
      "outputs": [
        {
          "output_type": "stream",
          "text": [
            "abc\n"
          ],
          "name": "stdout"
        }
      ]
    },
    {
      "cell_type": "markdown",
      "metadata": {
        "id": "Qmh81T7jcyTm",
        "colab_type": "text"
      },
      "source": [
        "# Implement an Object oriented programming features like Class, Object, Constructor in Python to capture basic details of an Employee like Name, Salary etc. Develop a program to read and display the Employee details along with the total number of employees exists , currently? Hint: i. Make use of Class concept, Object creation and accessing objects using the member functions ii. Make use of constructor to initialize the employee details / employee object\\ iii. Create get functions (one for each attribute / property) to display employee details and employee count."
      ]
    },
    {
      "cell_type": "code",
      "metadata": {
        "id": "g5UlpywMdCqW",
        "colab_type": "code",
        "outputId": "a5d0479b-e1ae-45a6-eb75-f1e6eccfc102",
        "colab": {
          "base_uri": "https://localhost:8080/",
          "height": 35
        }
      },
      "source": [
        "class Employee:\n",
        "  def __init__(self, name, age):\n",
        "    self.name = name\n",
        "    self.age = age\n",
        "\n",
        "  def hello(self):\n",
        "    print(\"Hello my name is {}. And I have {}\".format(self.name, self.age))\n",
        "\n",
        "p1 = Employee(\"John\", 36)\n",
        "p1.hello()"
      ],
      "execution_count": 0,
      "outputs": [
        {
          "output_type": "stream",
          "text": [
            "Hello my name is John. And I have 36\n"
          ],
          "name": "stdout"
        }
      ]
    },
    {
      "cell_type": "markdown",
      "metadata": {
        "id": "1rI88wECiIeC",
        "colab_type": "text"
      },
      "source": [
        "# A store provides the facility for customer and sales person/manager to view all the products in the alphabetical order of the Products. Which makes tracking easy. Develop a Python program to automate the above task."
      ]
    },
    {
      "cell_type": "code",
      "metadata": {
        "id": "fPL6vpg2iMFi",
        "colab_type": "code",
        "outputId": "a3623e1e-9914-4a25-9026-49d0a1bd7afd",
        "colab": {
          "base_uri": "https://localhost:8080/",
          "height": 35
        }
      },
      "source": [
        "products = [\"Shirt\", \"Bandana\", \"Cap\", \"Sneakers\", \"Boots\", \"V-neck\"]\n",
        "sorted(products)\n"
      ],
      "execution_count": 0,
      "outputs": [
        {
          "output_type": "execute_result",
          "data": {
            "text/plain": [
              "['Bandana', 'Boots', 'Cap', 'Shirt', 'Sneakers', 'V-neck']"
            ]
          },
          "metadata": {
            "tags": []
          },
          "execution_count": 4
        }
      ]
    },
    {
      "cell_type": "markdown",
      "metadata": {
        "id": "4rFQSjO4kCUG",
        "colab_type": "text"
      },
      "source": [
        "# What is the output of the following code?"
      ]
    },
    {
      "cell_type": "code",
      "metadata": {
        "id": "dRqFxQF_kDRr",
        "colab_type": "code",
        "colab": {}
      },
      "source": [
        "list = ['a', 'b', 'c', 'd', 'e']\n",
        "print(list[10:]) # []"
      ],
      "execution_count": 0,
      "outputs": []
    },
    {
      "cell_type": "markdown",
      "metadata": {
        "id": "bqXV4zeRplQy",
        "colab_type": "text"
      },
      "source": [
        "Empty list. Because:\n",
        "\n",
        "`example[3:4]` and `example[3]`\n",
        "\n",
        "Are fundamentally different, and slicing outside the bounds of a sequence (at least for built-ins) doesn't cause an error.\n",
        "\n",
        "It might be surprising at first, but it makes sense when you think about it. Indexing returns a single item, but slicing returns a subsequence of items. So when you try to index a nonexistent value, there's nothing to return. But when you slice a sequence outside of bounds, you can still return an empty sequence."
      ]
    },
    {
      "cell_type": "code",
      "metadata": {
        "id": "gsbcxogipliy",
        "colab_type": "code",
        "outputId": "4cc9c30b-3807-4d43-aacf-cfd159d2311e",
        "colab": {
          "base_uri": "https://localhost:8080/",
          "height": 53
        }
      },
      "source": [
        "example = \"example\"\n",
        "\n",
        "print(example[3:4], example[3])\n",
        "\n",
        "# Part of what's confusing here is that strings behave a little differently \n",
        "# from lists. Look what happens when you do the same thing to a list: \n",
        "\n",
        "print([0, 1, 2, 3, 4, 5][3], [0, 1, 2, 3, 4, 5][3:4])"
      ],
      "execution_count": 0,
      "outputs": [
        {
          "output_type": "stream",
          "text": [
            "m m\n",
            "3 [3]\n"
          ],
          "name": "stdout"
        }
      ]
    },
    {
      "cell_type": "markdown",
      "metadata": {
        "id": "hzvQunikrVNu",
        "colab_type": "text"
      },
      "source": [
        "# How to reload a previously imported module? (we assume that the module is a file with module.py"
      ]
    },
    {
      "cell_type": "markdown",
      "metadata": {
        "id": "IlqnZ-__rWsz",
        "colab_type": "text"
      },
      "source": [
        "`reload()`\n",
        "\n",
        "reloads a previously imported module. This is useful if you have edited the module source file using an external editor and want to try out the new version without leaving the Python interpreter. The return value is the module object."
      ]
    },
    {
      "cell_type": "code",
      "metadata": {
        "id": "_OVs51aVrrD3",
        "colab_type": "code",
        "colab": {}
      },
      "source": [
        "import importlib\n",
        "importlib.reload(module)"
      ],
      "execution_count": 0,
      "outputs": []
    },
    {
      "cell_type": "markdown",
      "metadata": {
        "id": "R_FPQ4z4r6Xf",
        "colab_type": "text"
      },
      "source": [
        "# What will be the output of the following code?"
      ]
    },
    {
      "cell_type": "code",
      "metadata": {
        "id": "6JVb9ol4r7Sp",
        "colab_type": "code",
        "colab": {}
      },
      "source": [
        "a = [[]]*3\n",
        "print(a)\n",
        "a[0].append(0)\n",
        "print(a)\n",
        "a[1].append(1)\n",
        "print(a)\n",
        "a[2].append(2)\n",
        "print(a)\n"
      ],
      "execution_count": 0,
      "outputs": []
    },
    {
      "cell_type": "markdown",
      "metadata": {
        "id": "zQnpWoka2hnb",
        "colab_type": "text"
      },
      "source": [
        "Create the same list 3 times, and under \"the same\" we mean \"one element\" which has pointers to it in 3 different places. (Pointers refer to this one all the time)"
      ]
    },
    {
      "cell_type": "markdown",
      "metadata": {
        "id": "JUl7uyTh27Iu",
        "colab_type": "text"
      },
      "source": [
        "# What's wrong with the following code?"
      ]
    },
    {
      "cell_type": "code",
      "metadata": {
        "id": "QB6mbUor25Qw",
        "colab_type": "code",
        "colab": {}
      },
      "source": [
        "def foo():\n",
        "     from .module import *  # not allowed\n",
        "     print(f'{bar()}')"
      ],
      "execution_count": 0,
      "outputs": []
    },
    {
      "cell_type": "markdown",
      "metadata": {
        "id": "l-tLSLob3Mgb",
        "colab_type": "text"
      },
      "source": [
        "import inside a function definition is not allowed.\n",
        "\n",
        "This is not allowed because it would make optimizing the body of the function too hard. The Python implementation wants to know all of the names of function-local variables when it byte-compiles a function, so that it can optimize variable references into operations on the (CPython) virtual machine's operand stack, or at least to local variable-slot operations rather than lookups in outer namespaces. If you could dump the entire contents of a module into a function's local namespace, then the compiler would have to assume that any name in the function might possibly refer to a module global, because the list of names brought in by from module import * is only known at runtime.\n",
        "\n",
        "Putting from module import * in between top-level declarations is poor style, but it's allowed:"
      ]
    },
    {
      "cell_type": "markdown",
      "metadata": {
        "id": "WsL_gLjJ5Txi",
        "colab_type": "text"
      },
      "source": [
        "# The file is located in /usr/lib/python/person.py. The program starts as python /usr/lib/python/person.py. What is the output?"
      ]
    },
    {
      "cell_type": "code",
      "metadata": {
        "id": "RfwIVTDL5Qz7",
        "colab_type": "code",
        "outputId": "c06ec00b-71a9-4d87-c056-9494621c4d47",
        "colab": {
          "base_uri": "https://localhost:8080/",
          "height": 53
        }
      },
      "source": [
        "print(__name__)\n",
        "\n",
        "class Person:\n",
        "    def __init__(self, name):\n",
        "        __name__ = name  # This variable __name__ is local\n",
        "\n",
        "    def getAge(self):\n",
        "        print(__name__)  # This variable (__name__) also exist in global scope\n",
        "\n",
        "p = Person('John')\n",
        "p.getAge()"
      ],
      "execution_count": 0,
      "outputs": [
        {
          "output_type": "stream",
          "text": [
            "__main__\n",
            "__main__\n"
          ],
          "name": "stdout"
        }
      ]
    },
    {
      "cell_type": "markdown",
      "metadata": {
        "id": "DDkksTZs6fko",
        "colab_type": "text"
      },
      "source": [
        "Output is \"\\_\\_main__\"\n",
        "Whenever the Python interpreter reads a source file, it does two things:\n",
        "*    it sets a few special variables like \\_\\_name__, and then\n",
        "*    it executes all of the code found in the file.\n",
        "\n",
        "If you are running your module (the source file) as the main program the interpreter will assign the hard-coded string \"\\_\\_main__\" to the \\_\\_name__ variable"
      ]
    },
    {
      "cell_type": "markdown",
      "metadata": {
        "id": "WQiq_7vv9nef",
        "colab_type": "text"
      },
      "source": [
        "# Write timeit decorator for measure time of function execution."
      ]
    },
    {
      "cell_type": "code",
      "metadata": {
        "id": "jD8ywtq38yfx",
        "colab_type": "code",
        "colab": {}
      },
      "source": [
        "import time\n",
        "\n",
        "def timeit(method):\n",
        "    def timed(*args, **kw):\n",
        "        ts = time.time()\n",
        "        result = method(*args, **kw)\n",
        "        te = time.time()\n",
        "        if 'log_time' in kw:\n",
        "            name = kw.get('log_name', method.__name__.upper())\n",
        "            kw['log_time'][name] = int((te - ts) * 1000)\n",
        "\n",
        "        else:\n",
        "            print('%r  %2.2f ms' % (method.__name__, (te - ts) * 1000))\n",
        "\n",
        "        return result    \n",
        "    return timed\n",
        "\n",
        "\n",
        "class F(object):\n",
        "    @timeit\n",
        "    def foo(self, a=2, b=3):\n",
        "        time.sleep(0.2)\n",
        "\n",
        "@timeit\n",
        "def f(a):\n",
        "    for _ in range(a):\n",
        "        pass\n",
        "\n",
        "@timeit\n",
        "def f1():\n",
        "    time.sleep(2)\n",
        "    print('f1')\n",
        "\n",
        "    \n",
        "@timeit\n",
        "def f2(a):\n",
        "    time.sleep(2)\n",
        "    print('f2', a)\n",
        "\n",
        "    \n",
        "@timeit\n",
        "def f3(a, *args, **kw):\n",
        "    time.sleep(2)\n",
        "    print('f3', args, kw)\n",
        "\n",
        "\n",
        "f(2000000)\n",
        "f1()\n",
        "f2(42)\n",
        "f3(42, 43, foo=2)\n",
        "F().foo()"
      ],
      "execution_count": 0,
      "outputs": []
    },
    {
      "cell_type": "code",
      "metadata": {
        "id": "SA81ut8rj5eq",
        "colab_type": "code",
        "outputId": "5a26df2f-a274-4235-f600-0e21aca4a2d7",
        "colab": {
          "base_uri": "https://localhost:8080/",
          "height": 72
        }
      },
      "source": [
        "from functools import wraps\n",
        "from time import time\n",
        "\n",
        "def measure_time(func):\n",
        "    @wraps(func)\n",
        "    def _time_it(*args, **kwargs):\n",
        "        start = int(round(time() * 1000))\n",
        "        try:\n",
        "            return func(*args, **kwargs)\n",
        "        finally:\n",
        "            end_ = int(round(time() * 1000)) - start\n",
        "            print(f\"Total execution time for function: {func.__name__}: {end_ if end_ > 0 else 0} ms\")\n",
        "    return _time_it\n",
        "\n",
        "\n",
        "@measure_time\n",
        "def hello():\n",
        "    print('hello world')\n",
        "    \n",
        "    \n",
        "@measure_time\n",
        "def f(a):\n",
        "    for _ in range(a):\n",
        "        pass\n",
        "\n",
        "\n",
        "hello()\n",
        "f(2000000)\n",
        "\n"
      ],
      "execution_count": 0,
      "outputs": [
        {
          "output_type": "stream",
          "text": [
            "hello world\n",
            "Total execution time for function: hello: 1 ms\n",
            "Total execution time for function: f: 65 ms\n"
          ],
          "name": "stdout"
        }
      ]
    },
    {
      "cell_type": "markdown",
      "metadata": {
        "id": "VeLQRVGOo6_X",
        "colab_type": "text"
      },
      "source": [
        "# https://luminousmen.com/post/python-interview-questions-middle"
      ]
    },
    {
      "cell_type": "markdown",
      "metadata": {
        "id": "mQkXLg0WpPZD",
        "colab_type": "text"
      },
      "source": [
        "# Write repeater decorator that will try to execute function several times(customizable)."
      ]
    },
    {
      "cell_type": "code",
      "metadata": {
        "id": "UT51ayktpQXm",
        "colab_type": "code",
        "outputId": "79c69e32-adf8-4566-f1f2-e32c52c1f2e1",
        "colab": {
          "base_uri": "https://localhost:8080/",
          "height": 687
        }
      },
      "source": [
        "import time\n",
        "from functools import wraps\n",
        "\n",
        "def retry(ExceptionToCheck, tries=4, delay=3, backoff=2, logger=None):\n",
        "    \"\"\"\n",
        "        Retry calling the decorated function using an exponential backoff.\n",
        "\n",
        "        :param ExceptionToCheck: the exception to check. may be a tuple of\n",
        "            exceptions to check\n",
        "        :type ExceptionToCheck: Exception or tuple\n",
        "        :param tries: number of times to try (not retry) before giving up\n",
        "        :type tries: int\n",
        "        :param delay: initial delay between retries in seconds\n",
        "        :type delay: int\n",
        "        :param backoff: backoff multiplier e.g. value of 2 will double the delay\n",
        "            each retry\n",
        "        :type backoff: int\n",
        "        :param logger: logger to use. If None, print\n",
        "        :type logger: logging.Logger instance\n",
        "    \"\"\"\n",
        "    def deco_retry(f):\n",
        "        @wraps(f)\n",
        "        def f_retry(*args, **kwargs):\n",
        "            mtries, mdelay = tries, delay\n",
        "            while mtries > 1:\n",
        "                try:\n",
        "                    return f(*args, **kwargs)\n",
        "                except ExceptionToCheck as e:\n",
        "                    msg = \"%s, Retrying in %d seconds...\" % (str(e), mdelay)\n",
        "                    if logger:\n",
        "                        logger.warning(msg)\n",
        "                    else:\n",
        "                        print(msg)\n",
        "                    time.sleep(mdelay)\n",
        "                    mtries -= 1\n",
        "                    mdelay *= backoff\n",
        "            return f(*args, **kwargs)\n",
        "\n",
        "        return f_retry  # true decorator\n",
        "\n",
        "    return deco_retry\n",
        "\n",
        "\n",
        "\n",
        "# Try a \"success\" case\n",
        "import inspect\n",
        "@retry(Exception, tries=4)\n",
        "def test_success(text):\n",
        "    print(\"Success: \", text, \"for\", inspect.stack()[0][3])\n",
        "\n",
        "test_success(\"it works!\")\n",
        "\n",
        "\n",
        "\n",
        "# Try a \"random fail\" case\n",
        "import random\n",
        "import inspect\n",
        "@retry(Exception, tries=4)\n",
        "def test_random(text):\n",
        "    x = random.random()\n",
        "    if x < 0.5:\n",
        "        raise Exception(\"Fail\")\n",
        "    else:\n",
        "        print(\"Success: \", text, \"for\", inspect.stack()[0][3])\n",
        "\n",
        "test_random(\"it works!\")\n",
        "\n",
        "\n",
        "\n",
        "#Try handling multiple exceptions\n",
        "import random\n",
        "import inspect\n",
        "@retry((NameError, IOError), tries=20, delay=1, backoff=1)\n",
        "def test_multiple_exceptions():\n",
        "    x = random.random()\n",
        "    if x < 0.40:\n",
        "        raise NameError(\"NameError\")\n",
        "    elif x < 0.80:\n",
        "        raise IOError(\"IOError\")\n",
        "    else:\n",
        "        raise KeyError(\"KeyError\")\n",
        "\n",
        "test_multiple_exceptions()\n",
        "\n",
        "\n",
        "\n",
        "# Try an \"always fail\" case\n",
        "import inspect\n",
        "@retry(Exception, tries=4)\n",
        "def test_fail(text):\n",
        "    raise Exception(\"Fail\", \"for\", inspect.stack()[0][3])\n",
        "\n",
        "test_fail(\"it works!\")"
      ],
      "execution_count": 0,
      "outputs": [
        {
          "output_type": "stream",
          "text": [
            "Success:  it works! for test_success\n",
            "Fail, Retrying in 3 seconds...\n",
            "Success:  it works! for test_random\n",
            "IOError, Retrying in 1 seconds...\n",
            "NameError, Retrying in 1 seconds...\n",
            "IOError, Retrying in 1 seconds...\n",
            "IOError, Retrying in 1 seconds...\n",
            "NameError, Retrying in 1 seconds...\n",
            "NameError, Retrying in 1 seconds...\n",
            "NameError, Retrying in 1 seconds...\n",
            "IOError, Retrying in 1 seconds...\n",
            "IOError, Retrying in 1 seconds...\n",
            "IOError, Retrying in 1 seconds...\n",
            "IOError, Retrying in 1 seconds...\n",
            "IOError, Retrying in 1 seconds...\n",
            "IOError, Retrying in 1 seconds...\n"
          ],
          "name": "stdout"
        },
        {
          "output_type": "error",
          "ename": "KeyError",
          "evalue": "ignored",
          "traceback": [
            "\u001b[0;31m---------------------------------------------------------------------------\u001b[0m",
            "\u001b[0;31mKeyError\u001b[0m                                  Traceback (most recent call last)",
            "\u001b[0;32m<ipython-input-28-5c438f9ecb30>\u001b[0m in \u001b[0;36m<module>\u001b[0;34m()\u001b[0m\n\u001b[1;32m     81\u001b[0m         \u001b[0;32mraise\u001b[0m \u001b[0mKeyError\u001b[0m\u001b[0;34m(\u001b[0m\u001b[0;34m\"KeyError\"\u001b[0m\u001b[0;34m)\u001b[0m\u001b[0;34m\u001b[0m\u001b[0;34m\u001b[0m\u001b[0m\n\u001b[1;32m     82\u001b[0m \u001b[0;34m\u001b[0m\u001b[0m\n\u001b[0;32m---> 83\u001b[0;31m \u001b[0mtest_multiple_exceptions\u001b[0m\u001b[0;34m(\u001b[0m\u001b[0;34m)\u001b[0m\u001b[0;34m\u001b[0m\u001b[0;34m\u001b[0m\u001b[0m\n\u001b[0m\u001b[1;32m     84\u001b[0m \u001b[0;34m\u001b[0m\u001b[0m\n\u001b[1;32m     85\u001b[0m \u001b[0;34m\u001b[0m\u001b[0m\n",
            "\u001b[0;32m<ipython-input-28-5c438f9ecb30>\u001b[0m in \u001b[0;36mf_retry\u001b[0;34m(*args, **kwargs)\u001b[0m\n\u001b[1;32m     25\u001b[0m             \u001b[0;32mwhile\u001b[0m \u001b[0mmtries\u001b[0m \u001b[0;34m>\u001b[0m \u001b[0;36m1\u001b[0m\u001b[0;34m:\u001b[0m\u001b[0;34m\u001b[0m\u001b[0;34m\u001b[0m\u001b[0m\n\u001b[1;32m     26\u001b[0m                 \u001b[0;32mtry\u001b[0m\u001b[0;34m:\u001b[0m\u001b[0;34m\u001b[0m\u001b[0;34m\u001b[0m\u001b[0m\n\u001b[0;32m---> 27\u001b[0;31m                     \u001b[0;32mreturn\u001b[0m \u001b[0mf\u001b[0m\u001b[0;34m(\u001b[0m\u001b[0;34m*\u001b[0m\u001b[0margs\u001b[0m\u001b[0;34m,\u001b[0m \u001b[0;34m**\u001b[0m\u001b[0mkwargs\u001b[0m\u001b[0;34m)\u001b[0m\u001b[0;34m\u001b[0m\u001b[0;34m\u001b[0m\u001b[0m\n\u001b[0m\u001b[1;32m     28\u001b[0m                 \u001b[0;32mexcept\u001b[0m \u001b[0mExceptionToCheck\u001b[0m \u001b[0;32mas\u001b[0m \u001b[0me\u001b[0m\u001b[0;34m:\u001b[0m\u001b[0;34m\u001b[0m\u001b[0;34m\u001b[0m\u001b[0m\n\u001b[1;32m     29\u001b[0m                     \u001b[0mmsg\u001b[0m \u001b[0;34m=\u001b[0m \u001b[0;34m\"%s, Retrying in %d seconds...\"\u001b[0m \u001b[0;34m%\u001b[0m \u001b[0;34m(\u001b[0m\u001b[0mstr\u001b[0m\u001b[0;34m(\u001b[0m\u001b[0me\u001b[0m\u001b[0;34m)\u001b[0m\u001b[0;34m,\u001b[0m \u001b[0mmdelay\u001b[0m\u001b[0;34m)\u001b[0m\u001b[0;34m\u001b[0m\u001b[0;34m\u001b[0m\u001b[0m\n",
            "\u001b[0;32m<ipython-input-28-5c438f9ecb30>\u001b[0m in \u001b[0;36mtest_multiple_exceptions\u001b[0;34m()\u001b[0m\n\u001b[1;32m     79\u001b[0m         \u001b[0;32mraise\u001b[0m \u001b[0mIOError\u001b[0m\u001b[0;34m(\u001b[0m\u001b[0;34m\"IOError\"\u001b[0m\u001b[0;34m)\u001b[0m\u001b[0;34m\u001b[0m\u001b[0;34m\u001b[0m\u001b[0m\n\u001b[1;32m     80\u001b[0m     \u001b[0;32melse\u001b[0m\u001b[0;34m:\u001b[0m\u001b[0;34m\u001b[0m\u001b[0;34m\u001b[0m\u001b[0m\n\u001b[0;32m---> 81\u001b[0;31m         \u001b[0;32mraise\u001b[0m \u001b[0mKeyError\u001b[0m\u001b[0;34m(\u001b[0m\u001b[0;34m\"KeyError\"\u001b[0m\u001b[0;34m)\u001b[0m\u001b[0;34m\u001b[0m\u001b[0;34m\u001b[0m\u001b[0m\n\u001b[0m\u001b[1;32m     82\u001b[0m \u001b[0;34m\u001b[0m\u001b[0m\n\u001b[1;32m     83\u001b[0m \u001b[0mtest_multiple_exceptions\u001b[0m\u001b[0;34m(\u001b[0m\u001b[0;34m)\u001b[0m\u001b[0;34m\u001b[0m\u001b[0;34m\u001b[0m\u001b[0m\n",
            "\u001b[0;31mKeyError\u001b[0m: 'KeyError'"
          ]
        }
      ]
    },
    {
      "cell_type": "markdown",
      "metadata": {
        "id": "pnBDvufTulYX",
        "colab_type": "text"
      },
      "source": [
        "# What's the output?"
      ]
    },
    {
      "cell_type": "markdown",
      "metadata": {
        "id": "T3RoRT3k4LQD",
        "colab_type": "text"
      },
      "source": [
        "AttributeError: 'child' object has no attribute 'v1'"
      ]
    },
    {
      "cell_type": "code",
      "metadata": {
        "id": "DYGG_HwwuoUd",
        "colab_type": "code",
        "colab": {}
      },
      "source": [
        "class parent:\n",
        "    def __init__(self, param):\n",
        "         self.v1 = param\n",
        "\n",
        "class child:\n",
        "    def __init__(self, param):\n",
        "         self.v2 = param\n",
        "\n",
        "obj = child(11)\n",
        "print(obj.v1 + \" \" + obj.v2)"
      ],
      "execution_count": 0,
      "outputs": []
    },
    {
      "cell_type": "markdown",
      "metadata": {
        "id": "0qZXXFBq4ize",
        "colab_type": "text"
      },
      "source": [
        "Since you are redefining \\_\\_init__() in class child you need to explicitly call the one in the super class (parent) if you want to extend its behavior."
      ]
    },
    {
      "cell_type": "markdown",
      "metadata": {
        "id": "8-ZVAhfp9oQz",
        "colab_type": "text"
      },
      "source": [
        "Second example"
      ]
    },
    {
      "cell_type": "code",
      "metadata": {
        "id": "_ZynRhVlwj5h",
        "colab_type": "code",
        "outputId": "447d1d91-1691-405f-ce2c-71520fbd60f4",
        "colab": {
          "base_uri": "https://localhost:8080/",
          "height": 35
        }
      },
      "source": [
        "class parent:\n",
        "    def __init__(self, param):\n",
        "         self.v1 = param\n",
        "\n",
        "class child(parent):  # Add inheritance from parent\n",
        "    def __init__(self, param):\n",
        "        parent.__init__(self, param)  # parent.__init__\n",
        "        self.v2 = param\n",
        "\n",
        "obj = child(11)\n",
        "#print(obj.v1 + \" \" + obj.v2)\n",
        "print(obj.v1, \" \", obj.v2)"
      ],
      "execution_count": 0,
      "outputs": [
        {
          "output_type": "stream",
          "text": [
            "11   11\n"
          ],
          "name": "stdout"
        }
      ]
    },
    {
      "cell_type": "code",
      "metadata": {
        "id": "ggXKbNrd7xVN",
        "colab_type": "code",
        "outputId": "6f933838-de04-4809-b5ff-7e01966c463b",
        "colab": {
          "base_uri": "https://localhost:8080/",
          "height": 35
        }
      },
      "source": [
        "class Parent:\n",
        "    def __init__(self,num):\n",
        "        self.n1 = num\n",
        "\n",
        "class Child(Parent):\n",
        "    def show(self):\n",
        "        print(self.n1)\n",
        "\n",
        "obj = Child(8)\n",
        "obj.show()"
      ],
      "execution_count": 0,
      "outputs": [
        {
          "output_type": "stream",
          "text": [
            "8\n"
          ],
          "name": "stdout"
        }
      ]
    },
    {
      "cell_type": "code",
      "metadata": {
        "id": "S-k86V438EA4",
        "colab_type": "code",
        "outputId": "0ba44489-355d-470e-b635-8f1bfee5f528",
        "colab": {
          "base_uri": "https://localhost:8080/",
          "height": 35
        }
      },
      "source": [
        "class Parent:\n",
        "    def __init__(self,num):\n",
        "        self.n1 = num\n",
        "\n",
        "class Child(Parent):\n",
        "    def __init__(self,num):\n",
        "        Parent.__init__(self,num)\n",
        "        self.n2 = num*2\n",
        "    def show(self):\n",
        "        print(self.n1, self.n2)\n",
        "        \n",
        "obj = Child(8)\n",
        "obj.show()"
      ],
      "execution_count": 0,
      "outputs": [
        {
          "output_type": "stream",
          "text": [
            "8 16\n"
          ],
          "name": "stdout"
        }
      ]
    },
    {
      "cell_type": "markdown",
      "metadata": {
        "id": "PH7L0o_8CXBJ",
        "colab_type": "text"
      },
      "source": [
        "# Egg drop"
      ]
    },
    {
      "cell_type": "code",
      "metadata": {
        "id": "7QLZMmB0CZ8V",
        "colab_type": "code",
        "outputId": "5c2e95dd-f4be-4a8d-ea2a-bc699d6d66a8",
        "colab": {
          "base_uri": "https://localhost:8080/",
          "height": 1000
        }
      },
      "source": [
        "import math\n",
        "\n",
        "MAX_FLOOR = 10\n",
        "\n",
        "def safest_egg_drop_floor(n):\n",
        "    \"\"\"Return the safest floor to drop an egg from.\"\"\"\n",
        "\n",
        "    assert 1 <= n <= MAX_FLOOR, 'Building has floors from 1 through {}'.format(MAX_FLOOR)\n",
        "\n",
        "    # Calculate the optimal delta to start with, to reduce attempt numbers\n",
        "    delta = int(math.ceil((math.sqrt(1 + 8*MAX_FLOOR) - 1)/ 2))\n",
        "\n",
        "    low, high = 1, delta\n",
        "\n",
        "    while low < MAX_FLOOR:\n",
        "        if high >= n:\n",
        "            print('  First egg broke on floor {}'.format(high))\n",
        "\n",
        "            for i in range(low, high+1):\n",
        "                if i >= n:\n",
        "                    print('  Second egg broke on floor {}'.format(i))\n",
        "                    if i == 1:\n",
        "                        raise ValueError(\"Eggs will always break\")\n",
        "                    else:\n",
        "                        return i - 1\n",
        "        else:\n",
        "            delta -= 1\n",
        "            low, high = high, high + delta\n",
        "            if high > MAX_FLOOR:\n",
        "               high = MAX_FLOOR\n",
        "\n",
        "    return MAX_FLOOR\n",
        "\n",
        "\n",
        "def main():\n",
        "    for i in range(0, MAX_FLOOR+2):\n",
        "        print('\\nFind egg drop when it breaks at {}'.format(i))\n",
        "        try:\n",
        "            max_floor = safest_egg_drop_floor(i)\n",
        "            print('    Safest drop from floor {}'.format(max_floor))\n",
        "        except (ValueError, AssertionError) as error:\n",
        "            print(error)\n",
        "\n",
        "if __name__ == \"__main__\":\n",
        "    main()"
      ],
      "execution_count": 0,
      "outputs": [
        {
          "output_type": "stream",
          "text": [
            "\n",
            "Find egg drop when it breaks at 0\n",
            "Building has floors from 1 through 10\n",
            "\n",
            "Find egg drop when it breaks at 1\n",
            "  First egg broke on floor 4\n",
            "  Second egg broke on floor 1\n",
            "Eggs will always break\n",
            "\n",
            "Find egg drop when it breaks at 2\n",
            "  First egg broke on floor 4\n",
            "  Second egg broke on floor 2\n",
            "    Safest drop from floor 1\n",
            "\n",
            "Find egg drop when it breaks at 3\n",
            "  First egg broke on floor 4\n",
            "  Second egg broke on floor 3\n",
            "    Safest drop from floor 2\n",
            "\n",
            "Find egg drop when it breaks at 4\n",
            "  First egg broke on floor 4\n",
            "  Second egg broke on floor 4\n",
            "    Safest drop from floor 3\n",
            "\n",
            "Find egg drop when it breaks at 5\n",
            "  First egg broke on floor 7\n",
            "  Second egg broke on floor 5\n",
            "    Safest drop from floor 4\n",
            "\n",
            "Find egg drop when it breaks at 6\n",
            "  First egg broke on floor 7\n",
            "  Second egg broke on floor 6\n",
            "    Safest drop from floor 5\n",
            "\n",
            "Find egg drop when it breaks at 7\n",
            "  First egg broke on floor 7\n",
            "  Second egg broke on floor 7\n",
            "    Safest drop from floor 6\n",
            "\n",
            "Find egg drop when it breaks at 8\n",
            "  First egg broke on floor 9\n",
            "  Second egg broke on floor 8\n",
            "    Safest drop from floor 7\n",
            "\n",
            "Find egg drop when it breaks at 9\n",
            "  First egg broke on floor 9\n",
            "  Second egg broke on floor 9\n",
            "    Safest drop from floor 8\n",
            "\n",
            "Find egg drop when it breaks at 10\n",
            "  First egg broke on floor 10\n",
            "  Second egg broke on floor 10\n",
            "    Safest drop from floor 9\n",
            "\n",
            "Find egg drop when it breaks at 11\n",
            "Building has floors from 1 through 10\n"
          ],
          "name": "stdout"
        }
      ]
    },
    {
      "cell_type": "markdown",
      "metadata": {
        "id": "7nxvLPU59v0X",
        "colab_type": "text"
      },
      "source": [
        "# Fix the following code to make it work"
      ]
    },
    {
      "cell_type": "code",
      "metadata": {
        "id": "N08if75v9w7G",
        "colab_type": "code",
        "colab": {}
      },
      "source": [
        "class Repeater:\n",
        "    ...\n",
        "class RepeaterIterator:\n",
        "    ...\n",
        "\n",
        "repeater = Repeater('Hello')\n",
        "for I in repeater:\n",
        "    print (i)  # hello\n"
      ],
      "execution_count": 0,
      "outputs": []
    },
    {
      "cell_type": "code",
      "metadata": {
        "id": "A2Az85qm8I89",
        "colab_type": "code",
        "colab": {}
      },
      "source": [
        "class Counter:\n",
        "    def __init__(self, low, high):\n",
        "        self.current = low\n",
        "        self.high = high\n",
        "\n",
        "    def __iter__(self):\n",
        "        return self\n",
        "\n",
        "    def __next__(self): # Python 2: def next(self)\n",
        "        if self.current > self.high:\n",
        "            raise StopIteration\n",
        "        else:\n",
        "            self.current += 1\n",
        "            return self.current - 1\n",
        "\n",
        "counter = Counter(3, 8)\n",
        "for c in counter:\n",
        "    print(c)"
      ],
      "execution_count": 0,
      "outputs": []
    },
    {
      "cell_type": "code",
      "metadata": {
        "id": "d5dcoP5s815-",
        "colab_type": "code",
        "colab": {}
      },
      "source": [
        "class Counter:\n",
        "    def __init__(self, word):\n",
        "        self.word = word\n",
        "\n",
        "    def __iter__(self):\n",
        "        return self\n",
        "\n",
        "    def __next__(self): # Python 2: def next(self)\n",
        "        if self.current > self.high:\n",
        "            raise StopIteration\n",
        "        else:\n",
        "            self.current += 1\n",
        "            return self.current - 1\n",
        "\n",
        "counter = Counter(3, 8)\n",
        "for c in counter:\n",
        "    print(c)"
      ],
      "execution_count": 0,
      "outputs": []
    },
    {
      "cell_type": "markdown",
      "metadata": {
        "id": "THXW-KYbF99x",
        "colab_type": "text"
      },
      "source": [
        "# We have the following code with the unknown function f(). In f(), we do not want to use return, instead, we may want to use generator. Write a function f() so that we can have the output above."
      ]
    },
    {
      "cell_type": "code",
      "metadata": {
        "id": "yn4zxTGyF_u5",
        "colab_type": "code",
        "colab": {}
      },
      "source": [
        "def f(x):\n",
        "    yield x**3\n",
        "\n",
        "\n",
        "# for x in f(3):\n",
        "#     #print(x)\n",
        "#     x.__next__()\n",
        "\n",
        "for x in f(3):\n",
        "gen = f(3)\n",
        "print(gen.__next__())\n",
        "\n",
        "#The output looks like this:\n",
        "#0 1 8 27 64\n"
      ],
      "execution_count": 0,
      "outputs": []
    },
    {
      "cell_type": "code",
      "metadata": {
        "id": "DRLzu3T1PEQa",
        "colab_type": "code",
        "colab": {
          "base_uri": "https://localhost:8080/",
          "height": 108
        },
        "outputId": "78ff98bc-b6ce-439b-fddd-92a0f3c00b23"
      },
      "source": [
        "def f(value):\n",
        "    yield value ** 3\n",
        "\n",
        "for i in range(5): \n",
        "    print(f(i).__next__())\n"
      ],
      "execution_count": 49,
      "outputs": [
        {
          "output_type": "stream",
          "text": [
            "0\n",
            "1\n",
            "8\n",
            "27\n",
            "64\n"
          ],
          "name": "stdout"
        }
      ]
    },
    {
      "cell_type": "markdown",
      "metadata": {
        "id": "6AH9jIa0RI2z",
        "colab_type": "text"
      },
      "source": [
        "# What's the output?"
      ]
    },
    {
      "cell_type": "code",
      "metadata": {
        "id": "m0FflIKARJoM",
        "colab_type": "code",
        "colab": {
          "base_uri": "https://localhost:8080/",
          "height": 72
        },
        "outputId": "39fed327-e072-40c1-d3f8-0484534062a0"
      },
      "source": [
        "x = [[0], [1]]\n",
        "print(len(' '.join(list(map(str, x)))))\n",
        "\n",
        "\n",
        "print(\"map(str, x) -> \", \"['[0]', '[1]']\")\n",
        "\n",
        "print(\"' '.join(list(map(str, x))))) -> \", '[0] [1]')"
      ],
      "execution_count": 58,
      "outputs": [
        {
          "output_type": "stream",
          "text": [
            "7\n",
            "map(str, x) ->  ['[0]', '[1]']\n",
            "' '.join(list(map(str, x))))) ->  [0] [1]\n"
          ],
          "name": "stdout"
        }
      ]
    }
  ]
}