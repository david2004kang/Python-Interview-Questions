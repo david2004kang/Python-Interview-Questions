{
  "nbformat": 4,
  "nbformat_minor": 0,
  "metadata": {
    "colab": {
      "name": "INTERVIEW_CODE.ipynb",
      "version": "0.3.2",
      "provenance": [],
      "include_colab_link": true
    },
    "kernelspec": {
      "name": "python3",
      "display_name": "Python 3"
    }
  },
  "cells": [
    {
      "cell_type": "markdown",
      "metadata": {
        "id": "view-in-github",
        "colab_type": "text"
      },
      "source": [
        "<a href=\"https://colab.research.google.com/github/mikazz/Python-Interview-Questions/blob/master/INTERVIEW_CODE.ipynb\" target=\"_parent\"><img src=\"https://colab.research.google.com/assets/colab-badge.svg\" alt=\"Open In Colab\"/></a>"
      ]
    },
    {
      "cell_type": "markdown",
      "metadata": {
        "id": "NmPPN-2i9otI",
        "colab_type": "text"
      },
      "source": [
        "https://www.linkedin.com/pulse/cracking-linkedin-tech-interview-szczepan-faber\n",
        "\n",
        "https://www.careercup.com/page?pid=python-interview-questions\n",
        "\n",
        "https://www.careercup.com/question?id=5757368000839680\n"
      ]
    },
    {
      "cell_type": "markdown",
      "metadata": {
        "id": "MM6fwQAZ9Dok",
        "colab_type": "text"
      },
      "source": [
        "# Given two strings of comma-seperated values, sort and return the second list based on the ordering of the first list."
      ]
    },
    {
      "cell_type": "code",
      "metadata": {
        "id": "ALTXUKs481GD",
        "colab_type": "code",
        "colab": {
          "base_uri": "https://localhost:8080/",
          "height": 53
        },
        "outputId": "6d7cea1d-5aa0-4533-8d76-809cf6b6061e"
      },
      "source": [
        "def sort_list(list1, list2): \n",
        "  \n",
        "    zipped_pairs = zip(list2, list1) \n",
        "  \n",
        "    z = [x for _, x in sorted(zipped_pairs)] \n",
        "      \n",
        "    return z \n",
        "\n",
        "\n",
        "n = \"a,b,c,d,e,f,g,h,i\"\n",
        "m = \"0,1,1,0,1,2,2,0,1\"\n",
        "x = n.split(\",\")\n",
        "y = m.split(\",\")\n",
        "print(sort_list(x, y))\n",
        "\n",
        "\n",
        "n = \"g,e,e,k,s,f,o,r,g,e,e,k,s\"\n",
        "m = \"0,1,1,0,1,2,2,0,1\"\n",
        "x = n.split(\",\")\n",
        "y = m.split(\",\")\n",
        "print(sort_list(x, y)) \n",
        "\n"
      ],
      "execution_count": 7,
      "outputs": [
        {
          "output_type": "stream",
          "text": [
            "['a', 'd', 'h', 'b', 'c', 'e', 'i', 'f', 'g']\n",
            "['g', 'k', 'r', 'e', 'e', 'g', 's', 'f', 'o']\n"
          ],
          "name": "stdout"
        }
      ]
    },
    {
      "cell_type": "markdown",
      "metadata": {
        "id": "8G4Lrp7dCsu7",
        "colab_type": "text"
      },
      "source": [
        "# Given an list of 100 numbers, find the (unique set) of duplicate values.\n"
      ]
    },
    {
      "cell_type": "code",
      "metadata": {
        "id": "1Ql4EcjPCsSu",
        "colab_type": "code",
        "colab": {
          "base_uri": "https://localhost:8080/",
          "height": 53
        },
        "outputId": "e628852f-7c92-4dd5-ddab-6ad821353d2f"
      },
      "source": [
        "#import random\n",
        "#random_list = [random.randint(0,100) for i in range(100)]\n",
        "random_list = [0, 0, 1, 1, 2, 3, 4, 5]\n",
        "\n",
        "print(random_list)\n",
        "\n",
        "def keep_duplicates(iterable):\n",
        "    seen = set()\n",
        "    duplicates = set()\n",
        "    for x in iterable:\n",
        "        if x in seen and x not in duplicates:\n",
        "            yield x\n",
        "            duplicates.add(x)\n",
        "        else:\n",
        "            seen.add(x)\n",
        "    \n",
        " \n",
        "print(list(keep_duplicates(random_list)))"
      ],
      "execution_count": 2,
      "outputs": [
        {
          "output_type": "stream",
          "text": [
            "[0, 0, 1, 1, 2, 3, 4, 5]\n",
            "<generator object keep_duplicates at 0x7f8e97326eb8>\n"
          ],
          "name": "stdout"
        }
      ]
    },
    {
      "cell_type": "markdown",
      "metadata": {
        "id": "QiPQhIVBFu4B",
        "colab_type": "text"
      },
      "source": [
        "# Given an list of 100 numbers, find the (unique set) of unique values."
      ]
    },
    {
      "cell_type": "code",
      "metadata": {
        "id": "2aF8DBo3Fvga",
        "colab_type": "code",
        "colab": {
          "base_uri": "https://localhost:8080/",
          "height": 92
        },
        "outputId": "9a14a526-d86b-4ac3-9cb2-33173fc2cfa8"
      },
      "source": [
        "import random\n",
        "random_list = [random.randint(0,100) for i in range(100)]\n",
        "print(list)\n",
        "\n",
        "seen = set()\n",
        "uniq = []\n",
        "for x in random_list:\n",
        "    if x not in seen:\n",
        "        uniq.append(x)\n",
        "        seen.add(x)\n",
        "        \n",
        "print(seen)"
      ],
      "execution_count": 27,
      "outputs": [
        {
          "output_type": "stream",
          "text": [
            "100\n",
            "[39, 35, 64, 23, 17, 65, 25, 82, 90, 76, 48, 41, 24, 29, 3, 73, 78, 54, 37, 53, 59, 14, 32, 36, 92, 28, 63, 10, 95, 67, 75, 47, 27, 12, 16, 21, 49, 6, 11, 30, 93, 20, 55, 66, 44, 1, 56, 34, 0, 71, 18, 38, 96, 50, 99, 7, 5, 89, 31, 94, 46, 2, 26, 51, 85, 83, 45, 4, 52, 8, 61, 33, 70, 19, 40, 86, 77, 68, 42, 81, 72, 79, 80, 58, 98, 74, 15, 9, 57, 62, 97, 88, 13, 22, 91, 60, 87, 43, 84, 69]\n",
            "{0, 1, 2, 7, 8, 10, 11, 15, 16, 17, 19, 21, 22, 23, 24, 25, 26, 28, 29, 30, 32, 35, 38, 40, 41, 42, 43, 44, 45, 46, 47, 48, 49, 50, 51, 52, 55, 57, 58, 59, 60, 61, 63, 65, 69, 70, 71, 74, 75, 76, 77, 78, 79, 80, 81, 83, 84, 85, 86, 87, 88, 89, 90, 91, 93, 94, 96, 98, 99, 100}\n"
          ],
          "name": "stdout"
        }
      ]
    }
  ]
}