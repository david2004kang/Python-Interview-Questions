{
  "nbformat": 4,
  "nbformat_minor": 0,
  "metadata": {
    "colab": {
      "name": "INTERVIEW_CODE.ipynb",
      "version": "0.3.2",
      "provenance": [],
      "include_colab_link": true
    },
    "kernelspec": {
      "name": "python3",
      "display_name": "Python 3"
    }
  },
  "cells": [
    {
      "cell_type": "markdown",
      "metadata": {
        "id": "view-in-github",
        "colab_type": "text"
      },
      "source": [
        "<a href=\"https://colab.research.google.com/github/mikazz/Python-Interview-Questions/blob/master/INTERVIEW_CODE.ipynb\" target=\"_parent\"><img src=\"https://colab.research.google.com/assets/colab-badge.svg\" alt=\"Open In Colab\"/></a>"
      ]
    },
    {
      "cell_type": "markdown",
      "metadata": {
        "id": "NmPPN-2i9otI",
        "colab_type": "text"
      },
      "source": [
        "https://www.linkedin.com/pulse/cracking-linkedin-tech-interview-szczepan-faber\n",
        "\n",
        "https://www.careercup.com/page?pid=python-interview-questions\n",
        "\n",
        "https://www.careercup.com/question?id=5757368000839680\n"
      ]
    },
    {
      "cell_type": "markdown",
      "metadata": {
        "id": "MM6fwQAZ9Dok",
        "colab_type": "text"
      },
      "source": [
        "# Given two strings of comma-seperated values, sort and return the second list based on the ordering of the first list."
      ]
    },
    {
      "cell_type": "code",
      "metadata": {
        "id": "ALTXUKs481GD",
        "colab_type": "code",
        "colab": {
          "base_uri": "https://localhost:8080/",
          "height": 53
        },
        "outputId": "6d7cea1d-5aa0-4533-8d76-809cf6b6061e"
      },
      "source": [
        "def sort_list(list1, list2): \n",
        "  \n",
        "    zipped_pairs = zip(list2, list1) \n",
        "  \n",
        "    z = [x for _, x in sorted(zipped_pairs)] \n",
        "      \n",
        "    return z \n",
        "\n",
        "\n",
        "n = \"a,b,c,d,e,f,g,h,i\"\n",
        "m = \"0,1,1,0,1,2,2,0,1\"\n",
        "x = n.split(\",\")\n",
        "y = m.split(\",\")\n",
        "print(sort_list(x, y))\n",
        "\n",
        "\n",
        "n = \"g,e,e,k,s,f,o,r,g,e,e,k,s\"\n",
        "m = \"0,1,1,0,1,2,2,0,1\"\n",
        "x = n.split(\",\")\n",
        "y = m.split(\",\")\n",
        "print(sort_list(x, y)) \n",
        "\n"
      ],
      "execution_count": 7,
      "outputs": [
        {
          "output_type": "stream",
          "text": [
            "['a', 'd', 'h', 'b', 'c', 'e', 'i', 'f', 'g']\n",
            "['g', 'k', 'r', 'e', 'e', 'g', 's', 'f', 'o']\n"
          ],
          "name": "stdout"
        }
      ]
    },
    {
      "cell_type": "markdown",
      "metadata": {
        "id": "8G4Lrp7dCsu7",
        "colab_type": "text"
      },
      "source": [
        "# Given an list of 100 numbers, find the (unique set) of duplicate values.\n"
      ]
    },
    {
      "cell_type": "code",
      "metadata": {
        "id": "1Ql4EcjPCsSu",
        "colab_type": "code",
        "colab": {}
      },
      "source": [
        "#import random\n",
        "#random_list = [random.randint(0,100) for i in range(100)]\n",
        "random_list = [0, 0, 1, 1, 2, 3, 4, 5]\n",
        "\n",
        "print(random_list)\n",
        "\n",
        "def keep_duplicates(iterable):\n",
        "    seen = set()\n",
        "    duplicates = set()\n",
        "    for x in iterable:\n",
        "        if x in seen and x not in duplicates:\n",
        "            yield x\n",
        "            duplicates.add(x)\n",
        "        else:\n",
        "            seen.add(x)\n",
        "    \n",
        " \n",
        "print(list(keep_duplicates(random_list)))"
      ],
      "execution_count": 0,
      "outputs": []
    },
    {
      "cell_type": "markdown",
      "metadata": {
        "id": "QiPQhIVBFu4B",
        "colab_type": "text"
      },
      "source": [
        "# Given an list of 100 numbers, find the (unique set) of unique values."
      ]
    },
    {
      "cell_type": "code",
      "metadata": {
        "id": "2aF8DBo3Fvga",
        "colab_type": "code",
        "colab": {}
      },
      "source": [
        "import random\n",
        "random_list = [random.randint(0,100) for i in range(100)]\n",
        "print(list)\n",
        "\n",
        "seen = set()\n",
        "uniq = []\n",
        "for x in random_list:\n",
        "    if x not in seen:\n",
        "        uniq.append(x)\n",
        "        seen.add(x)\n",
        "        \n",
        "print(seen)"
      ],
      "execution_count": 0,
      "outputs": []
    },
    {
      "cell_type": "markdown",
      "metadata": {
        "id": "QqZcQYycLnaw",
        "colab_type": "text"
      },
      "source": [
        "# Find all of the different permutations of a string. Your answer should not contain duplicates."
      ]
    },
    {
      "cell_type": "code",
      "metadata": {
        "id": "K0uFR2cgLpfC",
        "colab_type": "code",
        "colab": {}
      },
      "source": [
        "from itertools import permutations\n",
        "\n",
        "string = \"stass\"\n",
        "perms = [''.join(p) for p in permutations(string)]\n",
        "print(perms)\n",
        "\n",
        "print(\"With duplicates: \", len(perms), \"Without duplicates: \", len(set(perms)))"
      ],
      "execution_count": 0,
      "outputs": []
    },
    {
      "cell_type": "markdown",
      "metadata": {
        "id": "ZAoSngKCM82R",
        "colab_type": "text"
      },
      "source": [
        "# Find all of the different permutations of a string without using any built-in permutation functions. Your answer should not contain duplicates."
      ]
    }
  ]
}