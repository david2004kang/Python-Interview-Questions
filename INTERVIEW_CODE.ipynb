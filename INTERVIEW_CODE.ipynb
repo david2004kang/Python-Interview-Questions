{
  "nbformat": 4,
  "nbformat_minor": 0,
  "metadata": {
    "colab": {
      "name": "INTERVIEW_CODE.ipynb",
      "version": "0.3.2",
      "provenance": [],
      "include_colab_link": true
    },
    "kernelspec": {
      "name": "python3",
      "display_name": "Python 3"
    }
  },
  "cells": [
    {
      "cell_type": "markdown",
      "metadata": {
        "id": "view-in-github",
        "colab_type": "text"
      },
      "source": [
        "<a href=\"https://colab.research.google.com/github/mikazz/Python-Interview-Questions/blob/master/INTERVIEW_CODE.ipynb\" target=\"_parent\"><img src=\"https://colab.research.google.com/assets/colab-badge.svg\" alt=\"Open In Colab\"/></a>"
      ]
    },
    {
      "cell_type": "markdown",
      "metadata": {
        "id": "NmPPN-2i9otI",
        "colab_type": "text"
      },
      "source": [
        "https://www.linkedin.com/pulse/cracking-linkedin-tech-interview-szczepan-faber\n",
        "\n",
        "https://www.careercup.com/page?pid=python-interview-questions\n",
        "\n",
        "https://www.careercup.com/question?id=5757368000839680\n"
      ]
    },
    {
      "cell_type": "markdown",
      "metadata": {
        "id": "MM6fwQAZ9Dok",
        "colab_type": "text"
      },
      "source": [
        "# Given two strings of comma-seperated values, sort and return the second list based on the ordering of the first list."
      ]
    },
    {
      "cell_type": "code",
      "metadata": {
        "id": "ALTXUKs481GD",
        "colab_type": "code",
        "outputId": "6d7cea1d-5aa0-4533-8d76-809cf6b6061e",
        "colab": {
          "base_uri": "https://localhost:8080/",
          "height": 53
        }
      },
      "source": [
        "def sort_list(list1, list2): \n",
        "  \n",
        "    zipped_pairs = zip(list2, list1) \n",
        "  \n",
        "    z = [x for _, x in sorted(zipped_pairs)] \n",
        "      \n",
        "    return z \n",
        "\n",
        "\n",
        "n = \"a,b,c,d,e,f,g,h,i\"\n",
        "m = \"0,1,1,0,1,2,2,0,1\"\n",
        "x = n.split(\",\")\n",
        "y = m.split(\",\")\n",
        "print(sort_list(x, y))\n",
        "\n",
        "\n",
        "n = \"g,e,e,k,s,f,o,r,g,e,e,k,s\"\n",
        "m = \"0,1,1,0,1,2,2,0,1\"\n",
        "x = n.split(\",\")\n",
        "y = m.split(\",\")\n",
        "print(sort_list(x, y)) \n",
        "\n"
      ],
      "execution_count": 0,
      "outputs": [
        {
          "output_type": "stream",
          "text": [
            "['a', 'd', 'h', 'b', 'c', 'e', 'i', 'f', 'g']\n",
            "['g', 'k', 'r', 'e', 'e', 'g', 's', 'f', 'o']\n"
          ],
          "name": "stdout"
        }
      ]
    },
    {
      "cell_type": "markdown",
      "metadata": {
        "id": "8G4Lrp7dCsu7",
        "colab_type": "text"
      },
      "source": [
        "# Given an list of 100 numbers, find the (unique set) of duplicate values.\n"
      ]
    },
    {
      "cell_type": "code",
      "metadata": {
        "id": "1Ql4EcjPCsSu",
        "colab_type": "code",
        "colab": {}
      },
      "source": [
        "#import random\n",
        "#random_list = [random.randint(0,100) for i in range(100)]\n",
        "random_list = [0, 0, 1, 1, 2, 3, 4, 5]\n",
        "\n",
        "print(random_list)\n",
        "\n",
        "def keep_duplicates(iterable):\n",
        "    seen = set()\n",
        "    duplicates = set()\n",
        "    for x in iterable:\n",
        "        if x in seen and x not in duplicates:\n",
        "            yield x\n",
        "            duplicates.add(x)\n",
        "        else:\n",
        "            seen.add(x)\n",
        "    \n",
        " \n",
        "print(list(keep_duplicates(random_list)))"
      ],
      "execution_count": 0,
      "outputs": []
    },
    {
      "cell_type": "markdown",
      "metadata": {
        "id": "QiPQhIVBFu4B",
        "colab_type": "text"
      },
      "source": [
        "# Given an list of 100 numbers, find the (unique set) of unique values."
      ]
    },
    {
      "cell_type": "code",
      "metadata": {
        "id": "2aF8DBo3Fvga",
        "colab_type": "code",
        "colab": {}
      },
      "source": [
        "import random\n",
        "random_list = [random.randint(0,100) for i in range(100)]\n",
        "print(list)\n",
        "\n",
        "seen = set()\n",
        "uniq = []\n",
        "for x in random_list:\n",
        "    if x not in seen:\n",
        "        uniq.append(x)\n",
        "        seen.add(x)\n",
        "        \n",
        "print(seen)"
      ],
      "execution_count": 0,
      "outputs": []
    },
    {
      "cell_type": "markdown",
      "metadata": {
        "id": "QqZcQYycLnaw",
        "colab_type": "text"
      },
      "source": [
        "# Find all of the different permutations of a string. Your answer should not contain duplicates."
      ]
    },
    {
      "cell_type": "code",
      "metadata": {
        "id": "K0uFR2cgLpfC",
        "colab_type": "code",
        "colab": {}
      },
      "source": [
        "from itertools import permutations\n",
        "\n",
        "string = \"stass\"\n",
        "perms = [''.join(p) for p in permutations(string)]\n",
        "print(perms)\n",
        "\n",
        "print(\"With duplicates: \", len(perms), \"Without duplicates: \", len(set(perms)))"
      ],
      "execution_count": 0,
      "outputs": []
    },
    {
      "cell_type": "markdown",
      "metadata": {
        "id": "ZAoSngKCM82R",
        "colab_type": "text"
      },
      "source": [
        "# Find all of the different permutations of a string without using any built-in permutation functions. Your answer should not contain duplicates."
      ]
    },
    {
      "cell_type": "markdown",
      "metadata": {
        "id": "2x0RpXTYOHca",
        "colab_type": "text"
      },
      "source": [
        "#  Read data from a API call that gives org structure data in JSON format and arrange that data in requested format"
      ]
    },
    {
      "cell_type": "code",
      "metadata": {
        "id": "UtY4xJNlOSkH",
        "colab_type": "code",
        "colab": {}
      },
      "source": [
        "import requests\n",
        "\n",
        "resp = requests.get(\"https://api.spacexdata.com/v3/capsules/past\")\n",
        "\n",
        "if resp.status_code != 200:\n",
        "    # This means something went wrong.\n",
        "    raise ApiError('GET /tasks/ {}'.format(resp.status_code))\n",
        "\n",
        "for item in resp.json():\n",
        "    print('Capsule: {} Time: {} Status: {}'.format(item['capsule_serial'], item['original_launch_unix'], item['status']))\n"
      ],
      "execution_count": 0,
      "outputs": []
    },
    {
      "cell_type": "markdown",
      "metadata": {
        "id": "HGEJ84G5RlKl",
        "colab_type": "text"
      },
      "source": [
        "#  print LinkedIn if a number is divisible by 4 and 6, Linked if it is divisible by 4 and in it is by 6"
      ]
    },
    {
      "cell_type": "code",
      "metadata": {
        "id": "SrVk0hqsRrE9",
        "colab_type": "code",
        "colab": {}
      },
      "source": [
        "for i in range(0, 100):\n",
        "    if i % 4 == 0 and i % 6 == 0:\n",
        "        print(i, \"Linkedin\")\n",
        "    elif i % 4 == 0:\n",
        "        print(i, \"Linked\")\n",
        "    elif i % 6 == 0:\n",
        "        print(i, \"in\")\n",
        "    else:\n",
        "        print(i)"
      ],
      "execution_count": 0,
      "outputs": []
    },
    {
      "cell_type": "markdown",
      "metadata": {
        "id": "nT-0nR59VUJJ",
        "colab_type": "text"
      },
      "source": [
        "#  A Courier running firm want to automate the job of “service coverage area” based on the pin code of the AREA and it should display the message as mentioned below If service is available then display the statement: Service available for the locality: Area Name Otherwise display the statement: No Service available for the locality: Pincode Develop a Python program for the implementation of the above scenario?"
      ]
    },
    {
      "cell_type": "code",
      "metadata": {
        "id": "KgQBfciUVXT3",
        "colab_type": "code",
        "colab": {}
      },
      "source": [
        "my_dict = {'01': True, '02': True, '05': False}\n",
        "\n",
        "def if_avaiable(key):\n",
        "    if key in my_dict:\n",
        "        print(\"Key Exists: \" + key)\n",
        "        for key, value in my_dict.items():\n",
        "            if value == True:\n",
        "                return \"Service available\"\n",
        "            else:\n",
        "                return \"Service unavaiable\"\n",
        "    else:\n",
        "        return \"Code area not Found\"\n",
        "    \n",
        "if_avaiable(\"01\")"
      ],
      "execution_count": 0,
      "outputs": []
    },
    {
      "cell_type": "markdown",
      "metadata": {
        "id": "a3sd1sNdZB-e",
        "colab_type": "text"
      },
      "source": [
        "# Given a string as your input, delete any reoccurring character, and return the new string. input = \"aabbcc\" output = \"abc\""
      ]
    },
    {
      "cell_type": "code",
      "metadata": {
        "id": "Ujg9FAoAZFPa",
        "colab_type": "code",
        "colab": {
          "base_uri": "https://localhost:8080/",
          "height": 35
        },
        "outputId": "b274f931-d1b6-4f30-dcb8-2879d17ac0f8"
      },
      "source": [
        "from itertools import groupby\n",
        "\n",
        "input = \"aabbcc\"\n",
        "output = ''.join(c for c, _ in groupby(input))\n",
        "print(output)"
      ],
      "execution_count": 41,
      "outputs": [
        {
          "output_type": "stream",
          "text": [
            "abc\n"
          ],
          "name": "stdout"
        }
      ]
    },
    {
      "cell_type": "code",
      "metadata": {
        "id": "lmCIBLyhaDpR",
        "colab_type": "code",
        "colab": {
          "base_uri": "https://localhost:8080/",
          "height": 35
        },
        "outputId": "42ea2634-826b-4ed8-eb23-67d0af81cafa"
      },
      "source": [
        "input = \"aabbcc\"\n",
        "\n",
        "def remove_reoccurring(input):\n",
        "    word = []\n",
        "    word.append(input[0])  # If we wont do this we will get IndexError when word[-1] on empty list\n",
        "    \n",
        "    for i in input:\n",
        "        if i != word[-1]:\n",
        "            word.append(i)\n",
        "\n",
        "    return ''.join(word)\n",
        "\n",
        "print(remove_reoccurring(input))"
      ],
      "execution_count": 43,
      "outputs": [
        {
          "output_type": "stream",
          "text": [
            "abc\n"
          ],
          "name": "stdout"
        }
      ]
    },
    {
      "cell_type": "code",
      "metadata": {
        "id": "0dNjVGgFcQkw",
        "colab_type": "code",
        "colab": {
          "base_uri": "https://localhost:8080/",
          "height": 35
        },
        "outputId": "2a4f9667-af62-4588-82ac-7f5c9efc6f72"
      },
      "source": [
        "input = \"aabbcc\"\n",
        "\n",
        "def delete_reoccurring_characters(string):\n",
        "    seenCharacters = set()\n",
        "    outputString = ''\n",
        "    for char in string:\n",
        "        if char not in seenCharacters:\n",
        "            seenCharacters.add(char)\n",
        "            outputString += char\n",
        "    return outputString\n",
        "        \n",
        "print(delete_reoccurring_characters(input))"
      ],
      "execution_count": 46,
      "outputs": [
        {
          "output_type": "stream",
          "text": [
            "abc\n"
          ],
          "name": "stdout"
        }
      ]
    },
    {
      "cell_type": "markdown",
      "metadata": {
        "id": "Qmh81T7jcyTm",
        "colab_type": "text"
      },
      "source": [
        "# Implement an Object oriented programming features like Class, Object, Constructor in Python to capture basic details of an Employee like Name, Salary etc. Develop a program to read and display the Employee details along with the total number of employees exists , currently? Hint: i. Make use of Class concept, Object creation and accessing objects using the member functions ii. Make use of constructor to initialize the employee details / employee object\\ iii. Create get functions (one for each attribute / property) to display employee details and employee count."
      ]
    },
    {
      "cell_type": "code",
      "metadata": {
        "id": "g5UlpywMdCqW",
        "colab_type": "code",
        "colab": {
          "base_uri": "https://localhost:8080/",
          "height": 35
        },
        "outputId": "a5d0479b-e1ae-45a6-eb75-f1e6eccfc102"
      },
      "source": [
        "class Employee:\n",
        "  def __init__(self, name, age):\n",
        "    self.name = name\n",
        "    self.age = age\n",
        "\n",
        "  def hello(self):\n",
        "    print(\"Hello my name is {}. And I have {}\".format(self.name, self.age))\n",
        "\n",
        "p1 = Employee(\"John\", 36)\n",
        "p1.hello()"
      ],
      "execution_count": 48,
      "outputs": [
        {
          "output_type": "stream",
          "text": [
            "Hello my name is John. And I have 36\n"
          ],
          "name": "stdout"
        }
      ]
    },
    {
      "cell_type": "markdown",
      "metadata": {
        "id": "1rI88wECiIeC",
        "colab_type": "text"
      },
      "source": [
        "# A store provides the facility for customer and sales person/manager to view all the products in the alphabetical order of the Products. Which makes tracking easy. Develop a Python program to automate the above task."
      ]
    },
    {
      "cell_type": "code",
      "metadata": {
        "id": "fPL6vpg2iMFi",
        "colab_type": "code",
        "colab": {
          "base_uri": "https://localhost:8080/",
          "height": 35
        },
        "outputId": "a3623e1e-9914-4a25-9026-49d0a1bd7afd"
      },
      "source": [
        "products = [\"Shirt\", \"Bandana\", \"Cap\", \"Sneakers\", \"Boots\", \"V-neck\"]\n",
        "sorted(products)\n"
      ],
      "execution_count": 4,
      "outputs": [
        {
          "output_type": "execute_result",
          "data": {
            "text/plain": [
              "['Bandana', 'Boots', 'Cap', 'Shirt', 'Sneakers', 'V-neck']"
            ]
          },
          "metadata": {
            "tags": []
          },
          "execution_count": 4
        }
      ]
    },
    {
      "cell_type": "markdown",
      "metadata": {
        "id": "4rFQSjO4kCUG",
        "colab_type": "text"
      },
      "source": [
        "# What is the output of the following code?"
      ]
    },
    {
      "cell_type": "code",
      "metadata": {
        "id": "dRqFxQF_kDRr",
        "colab_type": "code",
        "colab": {}
      },
      "source": [
        "list = ['a', 'b', 'c', 'd', 'e']\n",
        "print(list[10:]) # []"
      ],
      "execution_count": 0,
      "outputs": []
    },
    {
      "cell_type": "markdown",
      "metadata": {
        "id": "bqXV4zeRplQy",
        "colab_type": "text"
      },
      "source": [
        "Empty list. Because:\n",
        "\n",
        "`example[3:4]` and `example[3]`\n",
        "\n",
        "Are fundamentally different, and slicing outside the bounds of a sequence (at least for built-ins) doesn't cause an error.\n",
        "\n",
        "It might be surprising at first, but it makes sense when you think about it. Indexing returns a single item, but slicing returns a subsequence of items. So when you try to index a nonexistent value, there's nothing to return. But when you slice a sequence outside of bounds, you can still return an empty sequence."
      ]
    },
    {
      "cell_type": "code",
      "metadata": {
        "id": "gsbcxogipliy",
        "colab_type": "code",
        "colab": {
          "base_uri": "https://localhost:8080/",
          "height": 53
        },
        "outputId": "4cc9c30b-3807-4d43-aacf-cfd159d2311e"
      },
      "source": [
        "example = \"example\"\n",
        "\n",
        "print(example[3:4], example[3])\n",
        "\n",
        "# Part of what's confusing here is that strings behave a little differently \n",
        "# from lists. Look what happens when you do the same thing to a list: \n",
        "\n",
        "print([0, 1, 2, 3, 4, 5][3], [0, 1, 2, 3, 4, 5][3:4])"
      ],
      "execution_count": 15,
      "outputs": [
        {
          "output_type": "stream",
          "text": [
            "m m\n",
            "3 [3]\n"
          ],
          "name": "stdout"
        }
      ]
    },
    {
      "cell_type": "markdown",
      "metadata": {
        "id": "hzvQunikrVNu",
        "colab_type": "text"
      },
      "source": [
        "# How to reload a previously imported module? (we assume that the module is a file with module.py"
      ]
    },
    {
      "cell_type": "markdown",
      "metadata": {
        "id": "IlqnZ-__rWsz",
        "colab_type": "text"
      },
      "source": [
        "`reload()`\n",
        "\n",
        "reloads a previously imported module. This is useful if you have edited the module source file using an external editor and want to try out the new version without leaving the Python interpreter. The return value is the module object."
      ]
    },
    {
      "cell_type": "code",
      "metadata": {
        "id": "_OVs51aVrrD3",
        "colab_type": "code",
        "colab": {}
      },
      "source": [
        "import importlib\n",
        "importlib.reload(module)"
      ],
      "execution_count": 0,
      "outputs": []
    },
    {
      "cell_type": "markdown",
      "metadata": {
        "id": "R_FPQ4z4r6Xf",
        "colab_type": "text"
      },
      "source": [
        "# What will be the output of the following code?"
      ]
    },
    {
      "cell_type": "code",
      "metadata": {
        "id": "6JVb9ol4r7Sp",
        "colab_type": "code",
        "colab": {}
      },
      "source": [
        "a = [[]]*3\n",
        "print(a)\n",
        "a[0].append(0)\n",
        "print(a)\n",
        "a[1].append(1)\n",
        "print(a)\n",
        "a[2].append(2)\n",
        "print(a)\n"
      ],
      "execution_count": 0,
      "outputs": []
    },
    {
      "cell_type": "markdown",
      "metadata": {
        "id": "zQnpWoka2hnb",
        "colab_type": "text"
      },
      "source": [
        "Create the same list 3 times, and under \"the same\" we mean \"one element\" which has pointers to it in 3 different places. (Pointers refer to this one all the time)"
      ]
    },
    {
      "cell_type": "markdown",
      "metadata": {
        "id": "JUl7uyTh27Iu",
        "colab_type": "text"
      },
      "source": [
        "# What's wrong with the following code?"
      ]
    },
    {
      "cell_type": "code",
      "metadata": {
        "id": "QB6mbUor25Qw",
        "colab_type": "code",
        "colab": {}
      },
      "source": [
        "def foo():\n",
        "     from .module import *  # not allowed\n",
        "     print(f'{bar()}')"
      ],
      "execution_count": 0,
      "outputs": []
    },
    {
      "cell_type": "markdown",
      "metadata": {
        "id": "l-tLSLob3Mgb",
        "colab_type": "text"
      },
      "source": [
        "import inside a function definition is not allowed.\n",
        "\n",
        "This is not allowed because it would make optimizing the body of the function too hard. The Python implementation wants to know all of the names of function-local variables when it byte-compiles a function, so that it can optimize variable references into operations on the (CPython) virtual machine's operand stack, or at least to local variable-slot operations rather than lookups in outer namespaces. If you could dump the entire contents of a module into a function's local namespace, then the compiler would have to assume that any name in the function might possibly refer to a module global, because the list of names brought in by from module import * is only known at runtime.\n",
        "\n",
        "Putting from module import * in between top-level declarations is poor style, but it's allowed:"
      ]
    },
    {
      "cell_type": "markdown",
      "metadata": {
        "id": "WsL_gLjJ5Txi",
        "colab_type": "text"
      },
      "source": [
        "# The file is located in /usr/lib/python/person.py. The program starts as python /usr/lib/python/person.py. What is the output?"
      ]
    },
    {
      "cell_type": "code",
      "metadata": {
        "id": "RfwIVTDL5Qz7",
        "colab_type": "code",
        "colab": {
          "base_uri": "https://localhost:8080/",
          "height": 53
        },
        "outputId": "c06ec00b-71a9-4d87-c056-9494621c4d47"
      },
      "source": [
        "print(__name__)\n",
        "\n",
        "class Person:\n",
        "    def __init__(self, name):\n",
        "        __name__ = name  # This variable __name__ is local\n",
        "\n",
        "    def getAge(self):\n",
        "        print(__name__)  # This variable (__name__) also exist in global scope\n",
        "\n",
        "p = Person('John')\n",
        "p.getAge()"
      ],
      "execution_count": 32,
      "outputs": [
        {
          "output_type": "stream",
          "text": [
            "__main__\n",
            "__main__\n"
          ],
          "name": "stdout"
        }
      ]
    },
    {
      "cell_type": "markdown",
      "metadata": {
        "id": "DDkksTZs6fko",
        "colab_type": "text"
      },
      "source": [
        "Output is \"\\_\\_main__\"\n",
        "Whenever the Python interpreter reads a source file, it does two things:\n",
        "*    it sets a few special variables like \\_\\_name__, and then\n",
        "*    it executes all of the code found in the file.\n",
        "\n",
        "If you are running your module (the source file) as the main program the interpreter will assign the hard-coded string \"\\_\\_main__\" to the \\_\\_name__ variable"
      ]
    },
    {
      "cell_type": "markdown",
      "metadata": {
        "id": "WQiq_7vv9nef",
        "colab_type": "text"
      },
      "source": [
        "# Write timeit decorator for measure time of function execution."
      ]
    }
  ]
}